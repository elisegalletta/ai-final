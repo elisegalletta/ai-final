{
  "cells": [
    {
      "cell_type": "markdown",
      "metadata": {
        "id": "zvbXneV8Uvea"
      },
      "source": [
        "**CS4710 Final Project Music Recommendation System**\n",
        "\n",
        "Group Members: Carter Bassler (cnb8mq), Elise Galletta (eag9sb), Gabe Levy (gel4xet), Kate Newton(krn4jc)\n",
        "\n",
        "Sites consulted:\n",
        "- https://www.geeksforgeeks.org/music-recommendation-system-using-machine-learning/\n",
        "- https://youtube.com/watch?v=tooddaC14q4\n",
        "\n",
        "Dataset:\n",
        "- https://www.kaggle.com/datasets/yamaerenay/spotify-dataset-19212020-600k-tracks"
      ]
    },
    {
      "cell_type": "markdown",
      "metadata": {
        "id": "zN0uojFWUveb"
      },
      "source": [
        "Import dependencies\n"
      ]
    },
    {
      "cell_type": "markdown",
      "metadata": {
        "id": "lx95tUkX-hTt"
      },
      "source": []
    },
    {
      "cell_type": "code",
      "execution_count": 45,
      "metadata": {
        "id": "XOzwafTyUvec"
      },
      "outputs": [],
      "source": [
        "import numpy as np\n",
        "import pandas as pd\n",
        "import matplotlib.pyplot as plt\n",
        "# import seaborn as sb\n",
        "import re\n",
        "import sys\n",
        "import itertools\n",
        "import json\n",
        "\n",
        "\n",
        "# from sklearn.metrics.pairwise import cosine_similarity\n",
        "# from sklearn.feature_extraction.text import CountVectorizer\n",
        "# from sklearn.manifold import TSNE\n",
        "\n",
        "import warnings\n",
        "warnings.filterwarnings('ignore')\n"
      ]
    },
    {
      "cell_type": "markdown",
      "metadata": {
        "id": "_FNHbxNzUved"
      },
      "source": [
        "Read in tracks.csv<br>\n",
        "Dataset contains 600,000+ tracks from 1921-2020<br>\n",
        "Includes basic information (id, title, artist, length) as well as features of each track (danceability, energy, liveness, acousticness...)"
      ]
    },
    {
      "cell_type": "code",
      "execution_count": 46,
      "metadata": {
        "colab": {
          "base_uri": "https://localhost:8080/",
          "height": 330
        },
        "id": "VC6jT0WhUved",
        "outputId": "a92914fd-2c74-4330-e99c-3713c2a5dcfe"
      },
      "outputs": [
        {
          "data": {
            "text/html": [
              "<div>\n",
              "<style scoped>\n",
              "    .dataframe tbody tr th:only-of-type {\n",
              "        vertical-align: middle;\n",
              "    }\n",
              "\n",
              "    .dataframe tbody tr th {\n",
              "        vertical-align: top;\n",
              "    }\n",
              "\n",
              "    .dataframe thead th {\n",
              "        text-align: right;\n",
              "    }\n",
              "</style>\n",
              "<table border=\"1\" class=\"dataframe\">\n",
              "  <thead>\n",
              "    <tr style=\"text-align: right;\">\n",
              "      <th></th>\n",
              "      <th>id</th>\n",
              "      <th>name</th>\n",
              "      <th>popularity</th>\n",
              "      <th>duration_ms</th>\n",
              "      <th>explicit</th>\n",
              "      <th>artists</th>\n",
              "      <th>id_artists</th>\n",
              "      <th>release_date</th>\n",
              "      <th>danceability</th>\n",
              "      <th>energy</th>\n",
              "      <th>key</th>\n",
              "      <th>loudness</th>\n",
              "      <th>mode</th>\n",
              "      <th>speechiness</th>\n",
              "      <th>acousticness</th>\n",
              "      <th>instrumentalness</th>\n",
              "      <th>liveness</th>\n",
              "      <th>valence</th>\n",
              "      <th>tempo</th>\n",
              "      <th>time_signature</th>\n",
              "    </tr>\n",
              "  </thead>\n",
              "  <tbody>\n",
              "    <tr>\n",
              "      <th>0</th>\n",
              "      <td>35iwgR4jXetI318WEWsa1Q</td>\n",
              "      <td>Carve</td>\n",
              "      <td>6</td>\n",
              "      <td>126903</td>\n",
              "      <td>0</td>\n",
              "      <td>['Uli']</td>\n",
              "      <td>['45tIt06XoI0Iio4LBEVpls']</td>\n",
              "      <td>1922-02-22</td>\n",
              "      <td>0.645</td>\n",
              "      <td>0.4450</td>\n",
              "      <td>0</td>\n",
              "      <td>-13.338</td>\n",
              "      <td>1</td>\n",
              "      <td>0.4510</td>\n",
              "      <td>0.674</td>\n",
              "      <td>0.7440</td>\n",
              "      <td>0.151</td>\n",
              "      <td>0.127</td>\n",
              "      <td>104.851</td>\n",
              "      <td>3</td>\n",
              "    </tr>\n",
              "    <tr>\n",
              "      <th>1</th>\n",
              "      <td>021ht4sdgPcrDgSk7JTbKY</td>\n",
              "      <td>Capítulo 2.16 - Banquero Anarquista</td>\n",
              "      <td>0</td>\n",
              "      <td>98200</td>\n",
              "      <td>0</td>\n",
              "      <td>['Fernando Pessoa']</td>\n",
              "      <td>['14jtPCOoNZwquk5wd9DxrY']</td>\n",
              "      <td>1922-06-01</td>\n",
              "      <td>0.695</td>\n",
              "      <td>0.2630</td>\n",
              "      <td>0</td>\n",
              "      <td>-22.136</td>\n",
              "      <td>1</td>\n",
              "      <td>0.9570</td>\n",
              "      <td>0.797</td>\n",
              "      <td>0.0000</td>\n",
              "      <td>0.148</td>\n",
              "      <td>0.655</td>\n",
              "      <td>102.009</td>\n",
              "      <td>1</td>\n",
              "    </tr>\n",
              "    <tr>\n",
              "      <th>2</th>\n",
              "      <td>07A5yehtSnoedViJAZkNnc</td>\n",
              "      <td>Vivo para Quererte - Remasterizado</td>\n",
              "      <td>0</td>\n",
              "      <td>181640</td>\n",
              "      <td>0</td>\n",
              "      <td>['Ignacio Corsini']</td>\n",
              "      <td>['5LiOoJbxVSAMkBS2fUm3X2']</td>\n",
              "      <td>1922-03-21</td>\n",
              "      <td>0.434</td>\n",
              "      <td>0.1770</td>\n",
              "      <td>1</td>\n",
              "      <td>-21.180</td>\n",
              "      <td>1</td>\n",
              "      <td>0.0512</td>\n",
              "      <td>0.994</td>\n",
              "      <td>0.0218</td>\n",
              "      <td>0.212</td>\n",
              "      <td>0.457</td>\n",
              "      <td>130.418</td>\n",
              "      <td>5</td>\n",
              "    </tr>\n",
              "    <tr>\n",
              "      <th>3</th>\n",
              "      <td>08FmqUhxtyLTn6pAh6bk45</td>\n",
              "      <td>El Prisionero - Remasterizado</td>\n",
              "      <td>0</td>\n",
              "      <td>176907</td>\n",
              "      <td>0</td>\n",
              "      <td>['Ignacio Corsini']</td>\n",
              "      <td>['5LiOoJbxVSAMkBS2fUm3X2']</td>\n",
              "      <td>1922-03-21</td>\n",
              "      <td>0.321</td>\n",
              "      <td>0.0946</td>\n",
              "      <td>7</td>\n",
              "      <td>-27.961</td>\n",
              "      <td>1</td>\n",
              "      <td>0.0504</td>\n",
              "      <td>0.995</td>\n",
              "      <td>0.9180</td>\n",
              "      <td>0.104</td>\n",
              "      <td>0.397</td>\n",
              "      <td>169.980</td>\n",
              "      <td>3</td>\n",
              "    </tr>\n",
              "    <tr>\n",
              "      <th>4</th>\n",
              "      <td>08y9GfoqCWfOGsKdwojr5e</td>\n",
              "      <td>Lady of the Evening</td>\n",
              "      <td>0</td>\n",
              "      <td>163080</td>\n",
              "      <td>0</td>\n",
              "      <td>['Dick Haymes']</td>\n",
              "      <td>['3BiJGZsyX9sJchTqcSA7Su']</td>\n",
              "      <td>1922</td>\n",
              "      <td>0.402</td>\n",
              "      <td>0.1580</td>\n",
              "      <td>3</td>\n",
              "      <td>-16.900</td>\n",
              "      <td>0</td>\n",
              "      <td>0.0390</td>\n",
              "      <td>0.989</td>\n",
              "      <td>0.1300</td>\n",
              "      <td>0.311</td>\n",
              "      <td>0.196</td>\n",
              "      <td>103.220</td>\n",
              "      <td>4</td>\n",
              "    </tr>\n",
              "  </tbody>\n",
              "</table>\n",
              "</div>"
            ],
            "text/plain": [
              "                       id                                 name  popularity  \\\n",
              "0  35iwgR4jXetI318WEWsa1Q                                Carve           6   \n",
              "1  021ht4sdgPcrDgSk7JTbKY  Capítulo 2.16 - Banquero Anarquista           0   \n",
              "2  07A5yehtSnoedViJAZkNnc   Vivo para Quererte - Remasterizado           0   \n",
              "3  08FmqUhxtyLTn6pAh6bk45        El Prisionero - Remasterizado           0   \n",
              "4  08y9GfoqCWfOGsKdwojr5e                  Lady of the Evening           0   \n",
              "\n",
              "   duration_ms  explicit              artists                  id_artists  \\\n",
              "0       126903         0              ['Uli']  ['45tIt06XoI0Iio4LBEVpls']   \n",
              "1        98200         0  ['Fernando Pessoa']  ['14jtPCOoNZwquk5wd9DxrY']   \n",
              "2       181640         0  ['Ignacio Corsini']  ['5LiOoJbxVSAMkBS2fUm3X2']   \n",
              "3       176907         0  ['Ignacio Corsini']  ['5LiOoJbxVSAMkBS2fUm3X2']   \n",
              "4       163080         0      ['Dick Haymes']  ['3BiJGZsyX9sJchTqcSA7Su']   \n",
              "\n",
              "  release_date  danceability  energy  key  loudness  mode  speechiness  \\\n",
              "0   1922-02-22         0.645  0.4450    0   -13.338     1       0.4510   \n",
              "1   1922-06-01         0.695  0.2630    0   -22.136     1       0.9570   \n",
              "2   1922-03-21         0.434  0.1770    1   -21.180     1       0.0512   \n",
              "3   1922-03-21         0.321  0.0946    7   -27.961     1       0.0504   \n",
              "4         1922         0.402  0.1580    3   -16.900     0       0.0390   \n",
              "\n",
              "   acousticness  instrumentalness  liveness  valence    tempo  time_signature  \n",
              "0         0.674            0.7440     0.151    0.127  104.851               3  \n",
              "1         0.797            0.0000     0.148    0.655  102.009               1  \n",
              "2         0.994            0.0218     0.212    0.457  130.418               5  \n",
              "3         0.995            0.9180     0.104    0.397  169.980               3  \n",
              "4         0.989            0.1300     0.311    0.196  103.220               4  "
            ]
          },
          "execution_count": 46,
          "metadata": {},
          "output_type": "execute_result"
        }
      ],
      "source": [
        "tracks = pd.read_csv('tracks.csv')\n",
        "tracks.head()"
      ]
    },
    {
      "cell_type": "markdown",
      "metadata": {
        "id": "RZ2B8AYyUved"
      },
      "source": [
        "\"Artists\" data set contains genre info<br>\n",
        "We need to pull this genre info and combine it with the tracks data to assign a genre to the tracks"
      ]
    },
    {
      "cell_type": "code",
      "execution_count": 47,
      "metadata": {
        "colab": {
          "base_uri": "https://localhost:8080/",
          "height": 206
        },
        "id": "hzUrs1scUvee",
        "outputId": "25fac43e-f524-4228-96d1-cc6911ae310e"
      },
      "outputs": [
        {
          "data": {
            "text/html": [
              "<div>\n",
              "<style scoped>\n",
              "    .dataframe tbody tr th:only-of-type {\n",
              "        vertical-align: middle;\n",
              "    }\n",
              "\n",
              "    .dataframe tbody tr th {\n",
              "        vertical-align: top;\n",
              "    }\n",
              "\n",
              "    .dataframe thead th {\n",
              "        text-align: right;\n",
              "    }\n",
              "</style>\n",
              "<table border=\"1\" class=\"dataframe\">\n",
              "  <thead>\n",
              "    <tr style=\"text-align: right;\">\n",
              "      <th></th>\n",
              "      <th>id</th>\n",
              "      <th>followers</th>\n",
              "      <th>genres</th>\n",
              "      <th>name</th>\n",
              "      <th>popularity</th>\n",
              "    </tr>\n",
              "  </thead>\n",
              "  <tbody>\n",
              "    <tr>\n",
              "      <th>0</th>\n",
              "      <td>0DheY5irMjBUeLybbCUEZ2</td>\n",
              "      <td>0.0</td>\n",
              "      <td>[]</td>\n",
              "      <td>Armid &amp; Amir Zare Pashai feat. Sara Rouzbehani</td>\n",
              "      <td>0</td>\n",
              "    </tr>\n",
              "    <tr>\n",
              "      <th>1</th>\n",
              "      <td>0DlhY15l3wsrnlfGio2bjU</td>\n",
              "      <td>5.0</td>\n",
              "      <td>[]</td>\n",
              "      <td>ปูนา ภาวิณี</td>\n",
              "      <td>0</td>\n",
              "    </tr>\n",
              "    <tr>\n",
              "      <th>2</th>\n",
              "      <td>0DmRESX2JknGPQyO15yxg7</td>\n",
              "      <td>0.0</td>\n",
              "      <td>[]</td>\n",
              "      <td>Sadaa</td>\n",
              "      <td>0</td>\n",
              "    </tr>\n",
              "    <tr>\n",
              "      <th>3</th>\n",
              "      <td>0DmhnbHjm1qw6NCYPeZNgJ</td>\n",
              "      <td>0.0</td>\n",
              "      <td>[]</td>\n",
              "      <td>Tra'gruda</td>\n",
              "      <td>0</td>\n",
              "    </tr>\n",
              "    <tr>\n",
              "      <th>4</th>\n",
              "      <td>0Dn11fWM7vHQ3rinvWEl4E</td>\n",
              "      <td>2.0</td>\n",
              "      <td>[]</td>\n",
              "      <td>Ioannis Panoutsopoulos</td>\n",
              "      <td>0</td>\n",
              "    </tr>\n",
              "  </tbody>\n",
              "</table>\n",
              "</div>"
            ],
            "text/plain": [
              "                       id  followers genres  \\\n",
              "0  0DheY5irMjBUeLybbCUEZ2        0.0     []   \n",
              "1  0DlhY15l3wsrnlfGio2bjU        5.0     []   \n",
              "2  0DmRESX2JknGPQyO15yxg7        0.0     []   \n",
              "3  0DmhnbHjm1qw6NCYPeZNgJ        0.0     []   \n",
              "4  0Dn11fWM7vHQ3rinvWEl4E        2.0     []   \n",
              "\n",
              "                                             name  popularity  \n",
              "0  Armid & Amir Zare Pashai feat. Sara Rouzbehani           0  \n",
              "1                                     ปูนา ภาวิณี           0  \n",
              "2                                           Sadaa           0  \n",
              "3                                       Tra'gruda           0  \n",
              "4                          Ioannis Panoutsopoulos           0  "
            ]
          },
          "execution_count": 47,
          "metadata": {},
          "output_type": "execute_result"
        }
      ],
      "source": [
        "artists = pd.read_csv('artists.csv')\n",
        "artists.head()"
      ]
    },
    {
      "cell_type": "markdown",
      "metadata": {
        "id": "t1vviwt8Uvee"
      },
      "source": [
        "Regex from source to format genre data as a list of strings"
      ]
    },
    {
      "cell_type": "code",
      "execution_count": 48,
      "metadata": {
        "id": "pgkwQ3kmUvee"
      },
      "outputs": [],
      "source": [
        "artists['genres_upd'] = artists['genres'].apply(lambda x: [re.sub(' ','_',i) for i in re.findall(r\"'([^']*)'\", x)])\n"
      ]
    },
    {
      "cell_type": "markdown",
      "metadata": {
        "id": "y4WSj0hFUvee"
      },
      "source": [
        "Now that we have the genres in a list format, we can show the genre by indexing into the list. <br><br>\n",
        "\n",
        "Note we haven't yet cleared out any empty lists (no genres), so for this example we are indexing 9434, a random index where the genre list for that artist is not empty so that we can show a genre result for testing purposes"
      ]
    },
    {
      "cell_type": "code",
      "execution_count": 49,
      "metadata": {
        "colab": {
          "base_uri": "https://localhost:8080/",
          "height": 35
        },
        "id": "g8dB4xX3Uvee",
        "outputId": "5a08eb60-49d9-4281-cc79-a60a17ae62a5"
      },
      "outputs": [
        {
          "data": {
            "text/plain": [
              "'czech_folk'"
            ]
          },
          "execution_count": 49,
          "metadata": {},
          "output_type": "execute_result"
        }
      ],
      "source": [
        "artists['genres_upd'].values[9434][0]"
      ]
    },
    {
      "cell_type": "markdown",
      "metadata": {
        "id": "0ZRJKbZiUvef"
      },
      "source": [
        "The tracks data is about songs, but does not include genre information which is important to the model.\n",
        "\n",
        "The artists data is at an artist level and includes the important genre information that we want to combine with the track data.\n",
        "\n",
        "<br>\n",
        "Making a column called 'artists_upd' which formates it like the genres_updated column, a list of strings. We need to use 2 regexs: one for normal artists, one for artists with any apostrophes in the name. Then combine these two columns (v1, v2) into the final artists_upd\n"
      ]
    },
    {
      "cell_type": "code",
      "execution_count": 50,
      "metadata": {
        "id": "m4ozJzCHUvef"
      },
      "outputs": [],
      "source": [
        "tracks['artists_upd_v1'] = tracks['artists'].apply(lambda x: re.findall(r\"'([^']*)'\", x))\n",
        "tracks['artists_upd_v2'] = tracks['artists'].apply(lambda x: re.findall('\\\"(.*?)\\\"',x))\n",
        "tracks['artists_upd'] = np.where(tracks['artists_upd_v1'].apply(lambda x: not x), tracks['artists_upd_v2'], tracks['artists_upd_v1'] )\n"
      ]
    },
    {
      "cell_type": "markdown",
      "metadata": {
        "id": "b6unkUR5Uvef"
      },
      "source": [
        "Now that we have the artists updated into the format we want to work in, we need to remove any duplicate songs. We will do this by creating a new column called 'artists_song' which takes the format of ArtistSong. Example: TheDave BrubeckQuartetLover, Taylor SwiftLover, etc. This is based on song title and release date."
      ]
    },
    {
      "cell_type": "code",
      "execution_count": 51,
      "metadata": {
        "id": "3ihFqbSYUvef"
      },
      "outputs": [],
      "source": [
        "tracks['artists_song'] = tracks.apply(lambda row: row['artists_upd'][0]+str(row['name']),axis = 1)\n",
        "tracks.sort_values(['artists_song','release_date'], ascending = False, inplace = True)\n",
        "# tracks[tracks['name']=='Lover']"
      ]
    },
    {
      "cell_type": "markdown",
      "metadata": {
        "id": "3Lynt7HEUveg"
      },
      "source": [
        "Now let's drop the duplicates of any song. We will show that this worked by showing the results of tracks that have the name Lover"
      ]
    },
    {
      "cell_type": "code",
      "execution_count": 52,
      "metadata": {
        "id": "KHgsEHFsUveg"
      },
      "outputs": [],
      "source": [
        "tracks.drop_duplicates('artists_song',inplace = True)\n",
        "\n",
        "# print(tracks[tracks['name']=='Lover'])"
      ]
    },
    {
      "cell_type": "markdown",
      "metadata": {
        "id": "DkAfyeGLUveg"
      },
      "source": [
        "For some songs, there are multiple artists in the list but the data is in a single row. We need to explode this column.\n",
        "\n",
        "artists_exploded will now distribute any songs with multiple artists into separate rows. the artists' names will be separte in the artists_upd column.\n",
        "\n",
        "Using Under Pressure as an example of a track with multiple artists to make sure the change is as expected."
      ]
    },
    {
      "cell_type": "code",
      "execution_count": 53,
      "metadata": {
        "id": "AxBM8aIDUveg"
      },
      "outputs": [],
      "source": [
        "tracks[tracks['name']=='Under Pressure']\n",
        "tracks = tracks.explode('artists_upd')"
      ]
    },
    {
      "cell_type": "code",
      "execution_count": 54,
      "metadata": {
        "colab": {
          "base_uri": "https://localhost:8080/",
          "height": 328
        },
        "id": "gVw1eyBzUveg",
        "outputId": "df1a43d7-2ffe-4e0d-c8c4-4d9c89d8b246"
      },
      "outputs": [
        {
          "data": {
            "text/html": [
              "<div>\n",
              "<style scoped>\n",
              "    .dataframe tbody tr th:only-of-type {\n",
              "        vertical-align: middle;\n",
              "    }\n",
              "\n",
              "    .dataframe tbody tr th {\n",
              "        vertical-align: top;\n",
              "    }\n",
              "\n",
              "    .dataframe thead th {\n",
              "        text-align: right;\n",
              "    }\n",
              "</style>\n",
              "<table border=\"1\" class=\"dataframe\">\n",
              "  <thead>\n",
              "    <tr style=\"text-align: right;\">\n",
              "      <th></th>\n",
              "      <th>id</th>\n",
              "      <th>name</th>\n",
              "      <th>popularity</th>\n",
              "      <th>duration_ms</th>\n",
              "      <th>explicit</th>\n",
              "      <th>artists</th>\n",
              "      <th>id_artists</th>\n",
              "      <th>release_date</th>\n",
              "      <th>danceability</th>\n",
              "      <th>energy</th>\n",
              "      <th>...</th>\n",
              "      <th>acousticness</th>\n",
              "      <th>instrumentalness</th>\n",
              "      <th>liveness</th>\n",
              "      <th>valence</th>\n",
              "      <th>tempo</th>\n",
              "      <th>time_signature</th>\n",
              "      <th>artists_upd_v1</th>\n",
              "      <th>artists_upd_v2</th>\n",
              "      <th>artists_upd</th>\n",
              "      <th>artists_song</th>\n",
              "    </tr>\n",
              "  </thead>\n",
              "  <tbody>\n",
              "    <tr>\n",
              "      <th>68387</th>\n",
              "      <td>3URCEz3axo6lHuDBhg59jz</td>\n",
              "      <td>Under Pressure</td>\n",
              "      <td>47</td>\n",
              "      <td>272333</td>\n",
              "      <td>1</td>\n",
              "      <td>['Thug Life']</td>\n",
              "      <td>['76fO70b6BK2xt3UVOe4BIZ']</td>\n",
              "      <td>1994-01-01</td>\n",
              "      <td>0.792</td>\n",
              "      <td>0.753</td>\n",
              "      <td>...</td>\n",
              "      <td>0.0191</td>\n",
              "      <td>0.0278</td>\n",
              "      <td>0.1220</td>\n",
              "      <td>0.231</td>\n",
              "      <td>96.043</td>\n",
              "      <td>4</td>\n",
              "      <td>[Thug Life]</td>\n",
              "      <td>[]</td>\n",
              "      <td>Thug Life</td>\n",
              "      <td>Thug LifeUnder Pressure</td>\n",
              "    </tr>\n",
              "    <tr>\n",
              "      <th>75641</th>\n",
              "      <td>5oidljiMjeJTWUGZ4TfFea</td>\n",
              "      <td>Under Pressure</td>\n",
              "      <td>65</td>\n",
              "      <td>237520</td>\n",
              "      <td>0</td>\n",
              "      <td>['Queen', 'David Bowie']</td>\n",
              "      <td>['1dfeR4HaWDbWqFHLkxsg1d', '0oSGxfWSnnOXhD2fKu...</td>\n",
              "      <td>2002-10-21</td>\n",
              "      <td>0.678</td>\n",
              "      <td>0.643</td>\n",
              "      <td>...</td>\n",
              "      <td>0.2400</td>\n",
              "      <td>0.0000</td>\n",
              "      <td>0.0708</td>\n",
              "      <td>0.534</td>\n",
              "      <td>113.460</td>\n",
              "      <td>4</td>\n",
              "      <td>[Queen, David Bowie]</td>\n",
              "      <td>[]</td>\n",
              "      <td>Queen</td>\n",
              "      <td>QueenUnder Pressure</td>\n",
              "    </tr>\n",
              "    <tr>\n",
              "      <th>75641</th>\n",
              "      <td>5oidljiMjeJTWUGZ4TfFea</td>\n",
              "      <td>Under Pressure</td>\n",
              "      <td>65</td>\n",
              "      <td>237520</td>\n",
              "      <td>0</td>\n",
              "      <td>['Queen', 'David Bowie']</td>\n",
              "      <td>['1dfeR4HaWDbWqFHLkxsg1d', '0oSGxfWSnnOXhD2fKu...</td>\n",
              "      <td>2002-10-21</td>\n",
              "      <td>0.678</td>\n",
              "      <td>0.643</td>\n",
              "      <td>...</td>\n",
              "      <td>0.2400</td>\n",
              "      <td>0.0000</td>\n",
              "      <td>0.0708</td>\n",
              "      <td>0.534</td>\n",
              "      <td>113.460</td>\n",
              "      <td>4</td>\n",
              "      <td>[Queen, David Bowie]</td>\n",
              "      <td>[]</td>\n",
              "      <td>David Bowie</td>\n",
              "      <td>QueenUnder Pressure</td>\n",
              "    </tr>\n",
              "    <tr>\n",
              "      <th>304479</th>\n",
              "      <td>5LME7YULt0enp6UAB8VoDn</td>\n",
              "      <td>Under Pressure</td>\n",
              "      <td>62</td>\n",
              "      <td>559533</td>\n",
              "      <td>1</td>\n",
              "      <td>['Logic']</td>\n",
              "      <td>['4xRYI6VqpkE3UwrDrAZL8L']</td>\n",
              "      <td>2014-10-21</td>\n",
              "      <td>0.701</td>\n",
              "      <td>0.856</td>\n",
              "      <td>...</td>\n",
              "      <td>0.2390</td>\n",
              "      <td>0.0000</td>\n",
              "      <td>0.1060</td>\n",
              "      <td>0.563</td>\n",
              "      <td>83.982</td>\n",
              "      <td>4</td>\n",
              "      <td>[Logic]</td>\n",
              "      <td>[]</td>\n",
              "      <td>Logic</td>\n",
              "      <td>LogicUnder Pressure</td>\n",
              "    </tr>\n",
              "  </tbody>\n",
              "</table>\n",
              "<p>4 rows × 24 columns</p>\n",
              "</div>"
            ],
            "text/plain": [
              "                            id            name  popularity  duration_ms  \\\n",
              "68387   3URCEz3axo6lHuDBhg59jz  Under Pressure          47       272333   \n",
              "75641   5oidljiMjeJTWUGZ4TfFea  Under Pressure          65       237520   \n",
              "75641   5oidljiMjeJTWUGZ4TfFea  Under Pressure          65       237520   \n",
              "304479  5LME7YULt0enp6UAB8VoDn  Under Pressure          62       559533   \n",
              "\n",
              "        explicit                   artists  \\\n",
              "68387          1             ['Thug Life']   \n",
              "75641          0  ['Queen', 'David Bowie']   \n",
              "75641          0  ['Queen', 'David Bowie']   \n",
              "304479         1                 ['Logic']   \n",
              "\n",
              "                                               id_artists release_date  \\\n",
              "68387                          ['76fO70b6BK2xt3UVOe4BIZ']   1994-01-01   \n",
              "75641   ['1dfeR4HaWDbWqFHLkxsg1d', '0oSGxfWSnnOXhD2fKu...   2002-10-21   \n",
              "75641   ['1dfeR4HaWDbWqFHLkxsg1d', '0oSGxfWSnnOXhD2fKu...   2002-10-21   \n",
              "304479                         ['4xRYI6VqpkE3UwrDrAZL8L']   2014-10-21   \n",
              "\n",
              "        danceability  energy  ...  acousticness  instrumentalness  liveness  \\\n",
              "68387          0.792   0.753  ...        0.0191            0.0278    0.1220   \n",
              "75641          0.678   0.643  ...        0.2400            0.0000    0.0708   \n",
              "75641          0.678   0.643  ...        0.2400            0.0000    0.0708   \n",
              "304479         0.701   0.856  ...        0.2390            0.0000    0.1060   \n",
              "\n",
              "        valence    tempo  time_signature        artists_upd_v1  \\\n",
              "68387     0.231   96.043               4           [Thug Life]   \n",
              "75641     0.534  113.460               4  [Queen, David Bowie]   \n",
              "75641     0.534  113.460               4  [Queen, David Bowie]   \n",
              "304479    0.563   83.982               4               [Logic]   \n",
              "\n",
              "        artists_upd_v2  artists_upd             artists_song  \n",
              "68387               []    Thug Life  Thug LifeUnder Pressure  \n",
              "75641               []        Queen      QueenUnder Pressure  \n",
              "75641               []  David Bowie      QueenUnder Pressure  \n",
              "304479              []        Logic      LogicUnder Pressure  \n",
              "\n",
              "[4 rows x 24 columns]"
            ]
          },
          "execution_count": 54,
          "metadata": {},
          "output_type": "execute_result"
        }
      ],
      "source": [
        "tracks[tracks['name']=='Under Pressure']"
      ]
    },
    {
      "cell_type": "markdown",
      "metadata": {
        "id": "QUbIVFBvUveg"
      },
      "source": [
        "Now do a left join with tracks as left table and artists as right table. The artists name is 'artists_upd' in the left table and 'name' in the right table, so we will merge on those values."
      ]
    },
    {
      "cell_type": "code",
      "execution_count": 55,
      "metadata": {
        "id": "KvXuF_aYUveh"
      },
      "outputs": [],
      "source": [
        "artists_exploded = tracks.merge(artists, how = 'left', left_on = 'artists_upd',right_on = 'name')\n",
        "\n",
        "artists_exploded = artists_exploded[~artists_exploded.genres_upd.isnull()]"
      ]
    },
    {
      "cell_type": "code",
      "execution_count": 56,
      "metadata": {
        "colab": {
          "base_uri": "https://localhost:8080/"
        },
        "id": "aEWBDKlWUveh",
        "outputId": "ea1484e3-9850-43c0-d5c7-22ee4f714388"
      },
      "outputs": [
        {
          "name": "stdout",
          "output_type": "stream",
          "text": [
            "                          id_x          name_x  popularity_x  duration_ms  \\\n",
            "219621  5oidljiMjeJTWUGZ4TfFea  Under Pressure            65       237520   \n",
            "219622  5oidljiMjeJTWUGZ4TfFea  Under Pressure            65       237520   \n",
            "219623  5oidljiMjeJTWUGZ4TfFea  Under Pressure            65       237520   \n",
            "\n",
            "        explicit                   artists  \\\n",
            "219621         0  ['Queen', 'David Bowie']   \n",
            "219622         0  ['Queen', 'David Bowie']   \n",
            "219623         0  ['Queen', 'David Bowie']   \n",
            "\n",
            "                                               id_artists release_date  \\\n",
            "219621  ['1dfeR4HaWDbWqFHLkxsg1d', '0oSGxfWSnnOXhD2fKu...   2002-10-21   \n",
            "219622  ['1dfeR4HaWDbWqFHLkxsg1d', '0oSGxfWSnnOXhD2fKu...   2002-10-21   \n",
            "219623  ['1dfeR4HaWDbWqFHLkxsg1d', '0oSGxfWSnnOXhD2fKu...   2002-10-21   \n",
            "\n",
            "        danceability  energy  ...        artists_upd_v1  artists_upd_v2  \\\n",
            "219621         0.678   0.643  ...  [Queen, David Bowie]              []   \n",
            "219622         0.678   0.643  ...  [Queen, David Bowie]              []   \n",
            "219623         0.678   0.643  ...  [Queen, David Bowie]              []   \n",
            "\n",
            "        artists_upd         artists_song                    id_y   followers  \\\n",
            "219621        Queen  QueenUnder Pressure  1dfeR4HaWDbWqFHLkxsg1d  33483326.0   \n",
            "219622        Queen  QueenUnder Pressure  4wy9dPQrO1DqqvC9l7IFlW       251.0   \n",
            "219623  David Bowie  QueenUnder Pressure  0oSGxfWSnnOXhD2fKuz2Gy   6753696.0   \n",
            "\n",
            "                                                   genres       name_y  \\\n",
            "219621              ['classic rock', 'glam rock', 'rock']        Queen   \n",
            "219622                                                 []        Queen   \n",
            "219623  ['art rock', 'classic rock', 'glam rock', 'per...  David Bowie   \n",
            "\n",
            "        popularity_y                                         genres_upd  \n",
            "219621          89.0                    [classic_rock, glam_rock, rock]  \n",
            "219622          11.0                                                 []  \n",
            "219623          82.0  [art_rock, classic_rock, glam_rock, permanent_...  \n",
            "\n",
            "[3 rows x 30 columns]\n"
          ]
        }
      ],
      "source": [
        "print(artists_exploded[artists_exploded['id_x'] =='5oidljiMjeJTWUGZ4TfFea'])"
      ]
    },
    {
      "cell_type": "code",
      "execution_count": 57,
      "metadata": {
        "colab": {
          "base_uri": "https://localhost:8080/",
          "height": 206
        },
        "id": "inPagYx3Uveh",
        "outputId": "ac7433b8-80d5-4444-cd38-986000850269"
      },
      "outputs": [
        {
          "data": {
            "text/html": [
              "<div>\n",
              "<style scoped>\n",
              "    .dataframe tbody tr th:only-of-type {\n",
              "        vertical-align: middle;\n",
              "    }\n",
              "\n",
              "    .dataframe tbody tr th {\n",
              "        vertical-align: top;\n",
              "    }\n",
              "\n",
              "    .dataframe thead th {\n",
              "        text-align: right;\n",
              "    }\n",
              "</style>\n",
              "<table border=\"1\" class=\"dataframe\">\n",
              "  <thead>\n",
              "    <tr style=\"text-align: right;\">\n",
              "      <th></th>\n",
              "      <th>id_x</th>\n",
              "      <th>genres_upd</th>\n",
              "      <th>genre_list</th>\n",
              "    </tr>\n",
              "  </thead>\n",
              "  <tbody>\n",
              "    <tr>\n",
              "      <th>0</th>\n",
              "      <td>0004Uy71ku11n3LMpuyf59</td>\n",
              "      <td>[[polish_rock]]</td>\n",
              "      <td>[polish_rock]</td>\n",
              "    </tr>\n",
              "    <tr>\n",
              "      <th>1</th>\n",
              "      <td>000CSYu4rvd8cQ7JilfxhZ</td>\n",
              "      <td>[[country_quebecois, rock_quebecois]]</td>\n",
              "      <td>[rock_quebecois, country_quebecois]</td>\n",
              "    </tr>\n",
              "    <tr>\n",
              "      <th>2</th>\n",
              "      <td>000DsoWJKHdaUmhgcnpr8j</td>\n",
              "      <td>[[barnmusik]]</td>\n",
              "      <td>[barnmusik]</td>\n",
              "    </tr>\n",
              "    <tr>\n",
              "      <th>3</th>\n",
              "      <td>000G1xMMuwxNHmwVsBdtj1</td>\n",
              "      <td>[[candy_pop, new_wave, new_wave_pop, permanent...</td>\n",
              "      <td>[candy_pop, permanent_wave, rock, power_pop, n...</td>\n",
              "    </tr>\n",
              "    <tr>\n",
              "      <th>4</th>\n",
              "      <td>000KblXP5csWFFFsD6smOy</td>\n",
              "      <td>[[chamame, folclore_salteno, folklore_argentino]]</td>\n",
              "      <td>[chamame, folclore_salteno, folklore_argentino]</td>\n",
              "    </tr>\n",
              "  </tbody>\n",
              "</table>\n",
              "</div>"
            ],
            "text/plain": [
              "                     id_x                                         genres_upd  \\\n",
              "0  0004Uy71ku11n3LMpuyf59                                    [[polish_rock]]   \n",
              "1  000CSYu4rvd8cQ7JilfxhZ              [[country_quebecois, rock_quebecois]]   \n",
              "2  000DsoWJKHdaUmhgcnpr8j                                      [[barnmusik]]   \n",
              "3  000G1xMMuwxNHmwVsBdtj1  [[candy_pop, new_wave, new_wave_pop, permanent...   \n",
              "4  000KblXP5csWFFFsD6smOy  [[chamame, folclore_salteno, folklore_argentino]]   \n",
              "\n",
              "                                          genre_list  \n",
              "0                                      [polish_rock]  \n",
              "1                [rock_quebecois, country_quebecois]  \n",
              "2                                        [barnmusik]  \n",
              "3  [candy_pop, permanent_wave, rock, power_pop, n...  \n",
              "4    [chamame, folclore_salteno, folklore_argentino]  "
            ]
          },
          "execution_count": 57,
          "metadata": {},
          "output_type": "execute_result"
        }
      ],
      "source": [
        "artists_genres = artists_exploded.groupby('id_x')['genres_upd'].apply(list).reset_index()\n",
        "artists_genres['genre_list'] = artists_genres['genres_upd'].apply(lambda x: list(set(list(itertools.chain.from_iterable(x)))))\n",
        "artists_genres.head()"
      ]
    },
    {
      "cell_type": "markdown",
      "metadata": {
        "id": "fH8xZl6GUveh"
      },
      "source": [
        "Now do a left join with tracks as left table and artists_genre_consolidated as right table. The song ID is 'id' in the left table and 'id_x' in the right table, so we will merge on those values. It is id_x because the previous left join created an id_x and id_y because the column name was repeated across tables."
      ]
    },
    {
      "cell_type": "code",
      "execution_count": 58,
      "metadata": {
        "id": "08f9S-r7Uveh"
      },
      "outputs": [],
      "source": [
        "tracks = tracks.merge(artists_genres[['id_x','genre_list']], how = 'left', left_on = 'id', right_on='id_x')"
      ]
    },
    {
      "cell_type": "markdown",
      "metadata": {
        "id": "Gpz3CgmcUveh"
      },
      "source": [
        "Now we have the following:\n",
        "- all data in dataframe 'tracks'\n",
        "- artist name formatted as a single string in 'artists_upd'\n",
        "- if multiple artists to a single song, they are distributed across new rows\n",
        "- the genres are listed under genre_list\n"
      ]
    },
    {
      "cell_type": "code",
      "execution_count": 59,
      "metadata": {
        "colab": {
          "base_uri": "https://localhost:8080/",
          "height": 964
        },
        "id": "R37pELJ8Uveh",
        "outputId": "aaa0896b-ed21-4a87-9c80-466c224b9b74"
      },
      "outputs": [
        {
          "data": {
            "text/html": [
              "<div>\n",
              "<style scoped>\n",
              "    .dataframe tbody tr th:only-of-type {\n",
              "        vertical-align: middle;\n",
              "    }\n",
              "\n",
              "    .dataframe tbody tr th {\n",
              "        vertical-align: top;\n",
              "    }\n",
              "\n",
              "    .dataframe thead th {\n",
              "        text-align: right;\n",
              "    }\n",
              "</style>\n",
              "<table border=\"1\" class=\"dataframe\">\n",
              "  <thead>\n",
              "    <tr style=\"text-align: right;\">\n",
              "      <th></th>\n",
              "      <th>id</th>\n",
              "      <th>name</th>\n",
              "      <th>popularity</th>\n",
              "      <th>duration_ms</th>\n",
              "      <th>explicit</th>\n",
              "      <th>artists</th>\n",
              "      <th>id_artists</th>\n",
              "      <th>release_date</th>\n",
              "      <th>danceability</th>\n",
              "      <th>energy</th>\n",
              "      <th>...</th>\n",
              "      <th>liveness</th>\n",
              "      <th>valence</th>\n",
              "      <th>tempo</th>\n",
              "      <th>time_signature</th>\n",
              "      <th>artists_upd_v1</th>\n",
              "      <th>artists_upd_v2</th>\n",
              "      <th>artists_upd</th>\n",
              "      <th>artists_song</th>\n",
              "      <th>id_x</th>\n",
              "      <th>genre_list</th>\n",
              "    </tr>\n",
              "  </thead>\n",
              "  <tbody>\n",
              "    <tr>\n",
              "      <th>24814</th>\n",
              "      <td>55n9yjI6qqXh5F2mYvUc2y</td>\n",
              "      <td>I Don’t Wanna Live Forever (Fifty Shades Darker)</td>\n",
              "      <td>80</td>\n",
              "      <td>247160</td>\n",
              "      <td>0</td>\n",
              "      <td>['ZAYN', 'Taylor Swift']</td>\n",
              "      <td>['5ZsFI1h6hIdQRw2ti0hz81', '06HL4z0CvFAxyc27GX...</td>\n",
              "      <td>2017-11-09</td>\n",
              "      <td>0.731</td>\n",
              "      <td>0.445</td>\n",
              "      <td>...</td>\n",
              "      <td>0.1400</td>\n",
              "      <td>0.1060</td>\n",
              "      <td>117.970</td>\n",
              "      <td>4</td>\n",
              "      <td>[ZAYN, Taylor Swift]</td>\n",
              "      <td>[]</td>\n",
              "      <td>Taylor Swift</td>\n",
              "      <td>ZAYNI Don’t Wanna Live Forever (Fifty Shades D...</td>\n",
              "      <td>55n9yjI6qqXh5F2mYvUc2y</td>\n",
              "      <td>[pop, post-teen_pop, dance_pop, uk_pop]</td>\n",
              "    </tr>\n",
              "    <tr>\n",
              "      <th>76299</th>\n",
              "      <td>60hGQrn24APqEFSLObLeDc</td>\n",
              "      <td>Highway Don't Care</td>\n",
              "      <td>57</td>\n",
              "      <td>279067</td>\n",
              "      <td>0</td>\n",
              "      <td>['Tim McGraw', 'Taylor Swift', 'Keith Urban']</td>\n",
              "      <td>['6roFdX1y5BYSbp60OTJWMd', '06HL4z0CvFAxyc27GX...</td>\n",
              "      <td>2013-01-01</td>\n",
              "      <td>0.477</td>\n",
              "      <td>0.790</td>\n",
              "      <td>...</td>\n",
              "      <td>0.0841</td>\n",
              "      <td>0.5050</td>\n",
              "      <td>157.797</td>\n",
              "      <td>4</td>\n",
              "      <td>[Tim McGraw, Taylor Swift, Keith Urban]</td>\n",
              "      <td>[]</td>\n",
              "      <td>Taylor Swift</td>\n",
              "      <td>Tim McGrawHighway Don't Care</td>\n",
              "      <td>60hGQrn24APqEFSLObLeDc</td>\n",
              "      <td>[australian_pop, pop, country_road, australian...</td>\n",
              "    </tr>\n",
              "    <tr>\n",
              "      <th>101740</th>\n",
              "      <td>7dW84mWkdWE5a6lFWxJCBG</td>\n",
              "      <td>‘tis the damn season</td>\n",
              "      <td>74</td>\n",
              "      <td>229840</td>\n",
              "      <td>0</td>\n",
              "      <td>['Taylor Swift']</td>\n",
              "      <td>['06HL4z0CvFAxyc27GXpf02']</td>\n",
              "      <td>2020-12-11</td>\n",
              "      <td>0.575</td>\n",
              "      <td>0.434</td>\n",
              "      <td>...</td>\n",
              "      <td>0.1050</td>\n",
              "      <td>0.3480</td>\n",
              "      <td>145.916</td>\n",
              "      <td>4</td>\n",
              "      <td>[Taylor Swift]</td>\n",
              "      <td>[]</td>\n",
              "      <td>Taylor Swift</td>\n",
              "      <td>Taylor Swift‘tis the damn season</td>\n",
              "      <td>7dW84mWkdWE5a6lFWxJCBG</td>\n",
              "      <td>[pop, post-teen_pop]</td>\n",
              "    </tr>\n",
              "    <tr>\n",
              "      <th>101741</th>\n",
              "      <td>0lx2cLdOt3piJbcaXIV74f</td>\n",
              "      <td>willow</td>\n",
              "      <td>85</td>\n",
              "      <td>214707</td>\n",
              "      <td>0</td>\n",
              "      <td>['Taylor Swift']</td>\n",
              "      <td>['06HL4z0CvFAxyc27GXpf02']</td>\n",
              "      <td>2020-12-11</td>\n",
              "      <td>0.392</td>\n",
              "      <td>0.574</td>\n",
              "      <td>...</td>\n",
              "      <td>0.1450</td>\n",
              "      <td>0.5290</td>\n",
              "      <td>81.112</td>\n",
              "      <td>4</td>\n",
              "      <td>[Taylor Swift]</td>\n",
              "      <td>[]</td>\n",
              "      <td>Taylor Swift</td>\n",
              "      <td>Taylor Swiftwillow</td>\n",
              "      <td>0lx2cLdOt3piJbcaXIV74f</td>\n",
              "      <td>[pop, post-teen_pop]</td>\n",
              "    </tr>\n",
              "    <tr>\n",
              "      <th>101742</th>\n",
              "      <td>0PurA4JVJ8YQgSVopY8fn6</td>\n",
              "      <td>tolerate it</td>\n",
              "      <td>74</td>\n",
              "      <td>245440</td>\n",
              "      <td>1</td>\n",
              "      <td>['Taylor Swift']</td>\n",
              "      <td>['06HL4z0CvFAxyc27GXpf02']</td>\n",
              "      <td>2020-12-11</td>\n",
              "      <td>0.316</td>\n",
              "      <td>0.361</td>\n",
              "      <td>...</td>\n",
              "      <td>0.0797</td>\n",
              "      <td>0.2210</td>\n",
              "      <td>74.952</td>\n",
              "      <td>5</td>\n",
              "      <td>[Taylor Swift]</td>\n",
              "      <td>[]</td>\n",
              "      <td>Taylor Swift</td>\n",
              "      <td>Taylor Swifttolerate it</td>\n",
              "      <td>0PurA4JVJ8YQgSVopY8fn6</td>\n",
              "      <td>[pop, post-teen_pop]</td>\n",
              "    </tr>\n",
              "    <tr>\n",
              "      <th>...</th>\n",
              "      <td>...</td>\n",
              "      <td>...</td>\n",
              "      <td>...</td>\n",
              "      <td>...</td>\n",
              "      <td>...</td>\n",
              "      <td>...</td>\n",
              "      <td>...</td>\n",
              "      <td>...</td>\n",
              "      <td>...</td>\n",
              "      <td>...</td>\n",
              "      <td>...</td>\n",
              "      <td>...</td>\n",
              "      <td>...</td>\n",
              "      <td>...</td>\n",
              "      <td>...</td>\n",
              "      <td>...</td>\n",
              "      <td>...</td>\n",
              "      <td>...</td>\n",
              "      <td>...</td>\n",
              "      <td>...</td>\n",
              "      <td>...</td>\n",
              "    </tr>\n",
              "    <tr>\n",
              "      <th>101943</th>\n",
              "      <td>0YgHuReCSPwTXYny7isLja</td>\n",
              "      <td>A Perfectly Good Heart</td>\n",
              "      <td>47</td>\n",
              "      <td>220147</td>\n",
              "      <td>0</td>\n",
              "      <td>['Taylor Swift']</td>\n",
              "      <td>['06HL4z0CvFAxyc27GXpf02']</td>\n",
              "      <td>2006-10-24</td>\n",
              "      <td>0.483</td>\n",
              "      <td>0.751</td>\n",
              "      <td>...</td>\n",
              "      <td>0.1280</td>\n",
              "      <td>0.2680</td>\n",
              "      <td>156.092</td>\n",
              "      <td>4</td>\n",
              "      <td>[Taylor Swift]</td>\n",
              "      <td>[]</td>\n",
              "      <td>Taylor Swift</td>\n",
              "      <td>Taylor SwiftA Perfectly Good Heart</td>\n",
              "      <td>0YgHuReCSPwTXYny7isLja</td>\n",
              "      <td>[pop, post-teen_pop]</td>\n",
              "    </tr>\n",
              "    <tr>\n",
              "      <th>101944</th>\n",
              "      <td>6ce41JVa6KFaryfmC2bu2W</td>\n",
              "      <td>22</td>\n",
              "      <td>73</td>\n",
              "      <td>232120</td>\n",
              "      <td>0</td>\n",
              "      <td>['Taylor Swift']</td>\n",
              "      <td>['06HL4z0CvFAxyc27GXpf02']</td>\n",
              "      <td>2012-10-22</td>\n",
              "      <td>0.661</td>\n",
              "      <td>0.729</td>\n",
              "      <td>...</td>\n",
              "      <td>0.0477</td>\n",
              "      <td>0.6680</td>\n",
              "      <td>103.987</td>\n",
              "      <td>4</td>\n",
              "      <td>[Taylor Swift]</td>\n",
              "      <td>[]</td>\n",
              "      <td>Taylor Swift</td>\n",
              "      <td>Taylor Swift22</td>\n",
              "      <td>6ce41JVa6KFaryfmC2bu2W</td>\n",
              "      <td>[pop, post-teen_pop]</td>\n",
              "    </tr>\n",
              "    <tr>\n",
              "      <th>101945</th>\n",
              "      <td>2yLa0QULdQr0qAIvVwN6B5</td>\n",
              "      <td>...Ready For It?</td>\n",
              "      <td>73</td>\n",
              "      <td>208187</td>\n",
              "      <td>0</td>\n",
              "      <td>['Taylor Swift']</td>\n",
              "      <td>['06HL4z0CvFAxyc27GXpf02']</td>\n",
              "      <td>2017-11-10</td>\n",
              "      <td>0.613</td>\n",
              "      <td>0.764</td>\n",
              "      <td>...</td>\n",
              "      <td>0.1970</td>\n",
              "      <td>0.4170</td>\n",
              "      <td>160.015</td>\n",
              "      <td>4</td>\n",
              "      <td>[Taylor Swift]</td>\n",
              "      <td>[]</td>\n",
              "      <td>Taylor Swift</td>\n",
              "      <td>Taylor Swift...Ready For It?</td>\n",
              "      <td>2yLa0QULdQr0qAIvVwN6B5</td>\n",
              "      <td>[pop, post-teen_pop]</td>\n",
              "    </tr>\n",
              "    <tr>\n",
              "      <th>593723</th>\n",
              "      <td>1MaqkdFNIKPdpQGDzme5ss</td>\n",
              "      <td>Two Is Better Than One (feat. Taylor Swift)</td>\n",
              "      <td>66</td>\n",
              "      <td>242840</td>\n",
              "      <td>0</td>\n",
              "      <td>['Boys Like Girls', 'Taylor Swift']</td>\n",
              "      <td>['0vWCyXMrrvMlCcepuOJaGI', '06HL4z0CvFAxyc27GX...</td>\n",
              "      <td>2009-09-07</td>\n",
              "      <td>0.521</td>\n",
              "      <td>0.702</td>\n",
              "      <td>...</td>\n",
              "      <td>0.0962</td>\n",
              "      <td>0.2500</td>\n",
              "      <td>127.976</td>\n",
              "      <td>4</td>\n",
              "      <td>[Boys Like Girls, Taylor Swift]</td>\n",
              "      <td>[]</td>\n",
              "      <td>Taylor Swift</td>\n",
              "      <td>Boys Like GirlsTwo Is Better Than One (feat. T...</td>\n",
              "      <td>1MaqkdFNIKPdpQGDzme5ss</td>\n",
              "      <td>[pop, post-teen_pop, neo_mellow, pop_punk, pop...</td>\n",
              "    </tr>\n",
              "    <tr>\n",
              "      <th>624280</th>\n",
              "      <td>3r9bgSJlJz2zlevcBRYXko</td>\n",
              "      <td>Both of Us (feat. Taylor Swift)</td>\n",
              "      <td>57</td>\n",
              "      <td>216120</td>\n",
              "      <td>1</td>\n",
              "      <td>['B.o.B', 'Taylor Swift']</td>\n",
              "      <td>['5ndkK3dpZLKtBklKjxNQwT', '06HL4z0CvFAxyc27GX...</td>\n",
              "      <td>2012-04-27</td>\n",
              "      <td>0.677</td>\n",
              "      <td>0.722</td>\n",
              "      <td>...</td>\n",
              "      <td>0.2070</td>\n",
              "      <td>0.0483</td>\n",
              "      <td>125.091</td>\n",
              "      <td>4</td>\n",
              "      <td>[B.o.B, Taylor Swift]</td>\n",
              "      <td>[]</td>\n",
              "      <td>Taylor Swift</td>\n",
              "      <td>B.o.BBoth of Us (feat. Taylor Swift)</td>\n",
              "      <td>3r9bgSJlJz2zlevcBRYXko</td>\n",
              "      <td>[pop, post-teen_pop, pop_rap, atl_hip_hop, dan...</td>\n",
              "    </tr>\n",
              "  </tbody>\n",
              "</table>\n",
              "<p>192 rows × 26 columns</p>\n",
              "</div>"
            ],
            "text/plain": [
              "                            id  \\\n",
              "24814   55n9yjI6qqXh5F2mYvUc2y   \n",
              "76299   60hGQrn24APqEFSLObLeDc   \n",
              "101740  7dW84mWkdWE5a6lFWxJCBG   \n",
              "101741  0lx2cLdOt3piJbcaXIV74f   \n",
              "101742  0PurA4JVJ8YQgSVopY8fn6   \n",
              "...                        ...   \n",
              "101943  0YgHuReCSPwTXYny7isLja   \n",
              "101944  6ce41JVa6KFaryfmC2bu2W   \n",
              "101945  2yLa0QULdQr0qAIvVwN6B5   \n",
              "593723  1MaqkdFNIKPdpQGDzme5ss   \n",
              "624280  3r9bgSJlJz2zlevcBRYXko   \n",
              "\n",
              "                                                    name  popularity  \\\n",
              "24814   I Don’t Wanna Live Forever (Fifty Shades Darker)          80   \n",
              "76299                                 Highway Don't Care          57   \n",
              "101740                              ‘tis the damn season          74   \n",
              "101741                                            willow          85   \n",
              "101742                                       tolerate it          74   \n",
              "...                                                  ...         ...   \n",
              "101943                            A Perfectly Good Heart          47   \n",
              "101944                                                22          73   \n",
              "101945                                  ...Ready For It?          73   \n",
              "593723       Two Is Better Than One (feat. Taylor Swift)          66   \n",
              "624280                   Both of Us (feat. Taylor Swift)          57   \n",
              "\n",
              "        duration_ms  explicit                                        artists  \\\n",
              "24814        247160         0                       ['ZAYN', 'Taylor Swift']   \n",
              "76299        279067         0  ['Tim McGraw', 'Taylor Swift', 'Keith Urban']   \n",
              "101740       229840         0                               ['Taylor Swift']   \n",
              "101741       214707         0                               ['Taylor Swift']   \n",
              "101742       245440         1                               ['Taylor Swift']   \n",
              "...             ...       ...                                            ...   \n",
              "101943       220147         0                               ['Taylor Swift']   \n",
              "101944       232120         0                               ['Taylor Swift']   \n",
              "101945       208187         0                               ['Taylor Swift']   \n",
              "593723       242840         0            ['Boys Like Girls', 'Taylor Swift']   \n",
              "624280       216120         1                      ['B.o.B', 'Taylor Swift']   \n",
              "\n",
              "                                               id_artists release_date  \\\n",
              "24814   ['5ZsFI1h6hIdQRw2ti0hz81', '06HL4z0CvFAxyc27GX...   2017-11-09   \n",
              "76299   ['6roFdX1y5BYSbp60OTJWMd', '06HL4z0CvFAxyc27GX...   2013-01-01   \n",
              "101740                         ['06HL4z0CvFAxyc27GXpf02']   2020-12-11   \n",
              "101741                         ['06HL4z0CvFAxyc27GXpf02']   2020-12-11   \n",
              "101742                         ['06HL4z0CvFAxyc27GXpf02']   2020-12-11   \n",
              "...                                                   ...          ...   \n",
              "101943                         ['06HL4z0CvFAxyc27GXpf02']   2006-10-24   \n",
              "101944                         ['06HL4z0CvFAxyc27GXpf02']   2012-10-22   \n",
              "101945                         ['06HL4z0CvFAxyc27GXpf02']   2017-11-10   \n",
              "593723  ['0vWCyXMrrvMlCcepuOJaGI', '06HL4z0CvFAxyc27GX...   2009-09-07   \n",
              "624280  ['5ndkK3dpZLKtBklKjxNQwT', '06HL4z0CvFAxyc27GX...   2012-04-27   \n",
              "\n",
              "        danceability  energy  ...  liveness  valence    tempo  time_signature  \\\n",
              "24814          0.731   0.445  ...    0.1400   0.1060  117.970               4   \n",
              "76299          0.477   0.790  ...    0.0841   0.5050  157.797               4   \n",
              "101740         0.575   0.434  ...    0.1050   0.3480  145.916               4   \n",
              "101741         0.392   0.574  ...    0.1450   0.5290   81.112               4   \n",
              "101742         0.316   0.361  ...    0.0797   0.2210   74.952               5   \n",
              "...              ...     ...  ...       ...      ...      ...             ...   \n",
              "101943         0.483   0.751  ...    0.1280   0.2680  156.092               4   \n",
              "101944         0.661   0.729  ...    0.0477   0.6680  103.987               4   \n",
              "101945         0.613   0.764  ...    0.1970   0.4170  160.015               4   \n",
              "593723         0.521   0.702  ...    0.0962   0.2500  127.976               4   \n",
              "624280         0.677   0.722  ...    0.2070   0.0483  125.091               4   \n",
              "\n",
              "                                 artists_upd_v1  artists_upd_v2   artists_upd  \\\n",
              "24814                      [ZAYN, Taylor Swift]              []  Taylor Swift   \n",
              "76299   [Tim McGraw, Taylor Swift, Keith Urban]              []  Taylor Swift   \n",
              "101740                           [Taylor Swift]              []  Taylor Swift   \n",
              "101741                           [Taylor Swift]              []  Taylor Swift   \n",
              "101742                           [Taylor Swift]              []  Taylor Swift   \n",
              "...                                         ...             ...           ...   \n",
              "101943                           [Taylor Swift]              []  Taylor Swift   \n",
              "101944                           [Taylor Swift]              []  Taylor Swift   \n",
              "101945                           [Taylor Swift]              []  Taylor Swift   \n",
              "593723          [Boys Like Girls, Taylor Swift]              []  Taylor Swift   \n",
              "624280                    [B.o.B, Taylor Swift]              []  Taylor Swift   \n",
              "\n",
              "                                             artists_song  \\\n",
              "24814   ZAYNI Don’t Wanna Live Forever (Fifty Shades D...   \n",
              "76299                        Tim McGrawHighway Don't Care   \n",
              "101740                   Taylor Swift‘tis the damn season   \n",
              "101741                                 Taylor Swiftwillow   \n",
              "101742                            Taylor Swifttolerate it   \n",
              "...                                                   ...   \n",
              "101943                 Taylor SwiftA Perfectly Good Heart   \n",
              "101944                                     Taylor Swift22   \n",
              "101945                       Taylor Swift...Ready For It?   \n",
              "593723  Boys Like GirlsTwo Is Better Than One (feat. T...   \n",
              "624280               B.o.BBoth of Us (feat. Taylor Swift)   \n",
              "\n",
              "                          id_x  \\\n",
              "24814   55n9yjI6qqXh5F2mYvUc2y   \n",
              "76299   60hGQrn24APqEFSLObLeDc   \n",
              "101740  7dW84mWkdWE5a6lFWxJCBG   \n",
              "101741  0lx2cLdOt3piJbcaXIV74f   \n",
              "101742  0PurA4JVJ8YQgSVopY8fn6   \n",
              "...                        ...   \n",
              "101943  0YgHuReCSPwTXYny7isLja   \n",
              "101944  6ce41JVa6KFaryfmC2bu2W   \n",
              "101945  2yLa0QULdQr0qAIvVwN6B5   \n",
              "593723  1MaqkdFNIKPdpQGDzme5ss   \n",
              "624280  3r9bgSJlJz2zlevcBRYXko   \n",
              "\n",
              "                                               genre_list  \n",
              "24814             [pop, post-teen_pop, dance_pop, uk_pop]  \n",
              "76299   [australian_pop, pop, country_road, australian...  \n",
              "101740                               [pop, post-teen_pop]  \n",
              "101741                               [pop, post-teen_pop]  \n",
              "101742                               [pop, post-teen_pop]  \n",
              "...                                                   ...  \n",
              "101943                               [pop, post-teen_pop]  \n",
              "101944                               [pop, post-teen_pop]  \n",
              "101945                               [pop, post-teen_pop]  \n",
              "593723  [pop, post-teen_pop, neo_mellow, pop_punk, pop...  \n",
              "624280  [pop, post-teen_pop, pop_rap, atl_hip_hop, dan...  \n",
              "\n",
              "[192 rows x 26 columns]"
            ]
          },
          "execution_count": 59,
          "metadata": {},
          "output_type": "execute_result"
        }
      ],
      "source": [
        "tracks[tracks['artists_upd']=='Taylor Swift']"
      ]
    },
    {
      "cell_type": "code",
      "execution_count": 60,
      "metadata": {
        "colab": {
          "base_uri": "https://localhost:8080/"
        },
        "id": "Akb6toHKUvei",
        "outputId": "52c9c553-950f-4f22-c467-1e984151cf08"
      },
      "outputs": [
        {
          "name": "stdout",
          "output_type": "stream",
          "text": [
            "<class 'pandas.core.frame.DataFrame'>\n",
            "RangeIndex: 674010 entries, 0 to 674009\n",
            "Data columns (total 26 columns):\n",
            " #   Column            Non-Null Count   Dtype  \n",
            "---  ------            --------------   -----  \n",
            " 0   id                674010 non-null  object \n",
            " 1   name              674009 non-null  object \n",
            " 2   popularity        674010 non-null  int64  \n",
            " 3   duration_ms       674010 non-null  int64  \n",
            " 4   explicit          674010 non-null  int64  \n",
            " 5   artists           674010 non-null  object \n",
            " 6   id_artists        674010 non-null  object \n",
            " 7   release_date      674010 non-null  object \n",
            " 8   danceability      674010 non-null  float64\n",
            " 9   energy            674010 non-null  float64\n",
            " 10  key               674010 non-null  int64  \n",
            " 11  loudness          674010 non-null  float64\n",
            " 12  mode              674010 non-null  int64  \n",
            " 13  speechiness       674010 non-null  float64\n",
            " 14  acousticness      674010 non-null  float64\n",
            " 15  instrumentalness  674010 non-null  float64\n",
            " 16  liveness          674010 non-null  float64\n",
            " 17  valence           674010 non-null  float64\n",
            " 18  tempo             674010 non-null  float64\n",
            " 19  time_signature    674010 non-null  int64  \n",
            " 20  artists_upd_v1    674010 non-null  object \n",
            " 21  artists_upd_v2    674010 non-null  object \n",
            " 22  artists_upd       674010 non-null  object \n",
            " 23  artists_song      674010 non-null  object \n",
            " 24  id_x              663703 non-null  object \n",
            " 25  genre_list        663703 non-null  object \n",
            "dtypes: float64(9), int64(6), object(11)\n",
            "memory usage: 133.7+ MB\n"
          ]
        }
      ],
      "source": [
        "tracks.info()"
      ]
    },
    {
      "cell_type": "markdown",
      "metadata": {
        "id": "yWtax6GmUvei"
      },
      "source": [
        "After all of this, we can check how many songs have no genre list associated with them. Its a small amount ~10,000 entries, so we will just drop these rows. We are dropping the rows because genre is an important predictor in our model."
      ]
    },
    {
      "cell_type": "code",
      "execution_count": 61,
      "metadata": {
        "colab": {
          "base_uri": "https://localhost:8080/"
        },
        "id": "y-upSVhbUvei",
        "outputId": "48bd078e-f48d-475b-888c-7082aa345dd3"
      },
      "outputs": [
        {
          "data": {
            "text/plain": [
              "id                      0\n",
              "name                    1\n",
              "popularity              0\n",
              "duration_ms             0\n",
              "explicit                0\n",
              "artists                 0\n",
              "id_artists              0\n",
              "release_date            0\n",
              "danceability            0\n",
              "energy                  0\n",
              "key                     0\n",
              "loudness                0\n",
              "mode                    0\n",
              "speechiness             0\n",
              "acousticness            0\n",
              "instrumentalness        0\n",
              "liveness                0\n",
              "valence                 0\n",
              "tempo                   0\n",
              "time_signature          0\n",
              "artists_upd_v1          0\n",
              "artists_upd_v2          0\n",
              "artists_upd             0\n",
              "artists_song            0\n",
              "id_x                10307\n",
              "genre_list          10307\n",
              "dtype: int64"
            ]
          },
          "execution_count": 61,
          "metadata": {},
          "output_type": "execute_result"
        }
      ],
      "source": [
        "tracks.isnull().sum()"
      ]
    },
    {
      "cell_type": "code",
      "execution_count": 62,
      "metadata": {
        "id": "4PbsCKiYUvei"
      },
      "outputs": [],
      "source": [
        "tracks.dropna(subset=['genre_list'], inplace=True)"
      ]
    },
    {
      "cell_type": "code",
      "execution_count": 63,
      "metadata": {
        "colab": {
          "base_uri": "https://localhost:8080/"
        },
        "id": "1qiybmV2Uvei",
        "outputId": "4bcb02c7-1816-463d-f4b8-a9e09acde708"
      },
      "outputs": [
        {
          "data": {
            "text/plain": [
              "id                  0\n",
              "name                0\n",
              "popularity          0\n",
              "duration_ms         0\n",
              "explicit            0\n",
              "artists             0\n",
              "id_artists          0\n",
              "release_date        0\n",
              "danceability        0\n",
              "energy              0\n",
              "key                 0\n",
              "loudness            0\n",
              "mode                0\n",
              "speechiness         0\n",
              "acousticness        0\n",
              "instrumentalness    0\n",
              "liveness            0\n",
              "valence             0\n",
              "tempo               0\n",
              "time_signature      0\n",
              "artists_upd_v1      0\n",
              "artists_upd_v2      0\n",
              "artists_upd         0\n",
              "artists_song        0\n",
              "id_x                0\n",
              "genre_list          0\n",
              "dtype: int64"
            ]
          },
          "execution_count": 63,
          "metadata": {},
          "output_type": "execute_result"
        }
      ],
      "source": [
        "tracks.isnull().sum()"
      ]
    },
    {
      "cell_type": "markdown",
      "metadata": {
        "id": "zwB55Zt5Uvej"
      },
      "source": [
        "Now we need to normalize the different features of the tracks since each of them are floats based on a different scale."
      ]
    },
    {
      "cell_type": "code",
      "execution_count": 64,
      "metadata": {
        "id": "MruYuJeaUvej"
      },
      "outputs": [],
      "source": [
        "tracks['year'] = tracks['release_date'].apply(lambda x: x.split('-')[0])"
      ]
    },
    {
      "cell_type": "code",
      "execution_count": 65,
      "metadata": {
        "id": "CzF7etUXUvej"
      },
      "outputs": [],
      "source": [
        "float_cols = tracks.dtypes[tracks.dtypes == 'float64'].index.values"
      ]
    },
    {
      "cell_type": "code",
      "execution_count": 66,
      "metadata": {
        "id": "DjA7zZ8RUvej"
      },
      "outputs": [],
      "source": [
        "ohe_cols = 'popularity'"
      ]
    },
    {
      "cell_type": "code",
      "execution_count": 67,
      "metadata": {
        "colab": {
          "base_uri": "https://localhost:8080/"
        },
        "id": "glggo0B2Uvej",
        "outputId": "ad6fc805-ea77-4d60-fdf8-44098b7d1f1d"
      },
      "outputs": [
        {
          "data": {
            "text/plain": [
              "count    663703.000000\n",
              "mean         26.692141\n",
              "std          18.799327\n",
              "min           0.000000\n",
              "25%          11.000000\n",
              "50%          26.000000\n",
              "75%          40.000000\n",
              "max          99.000000\n",
              "Name: popularity, dtype: float64"
            ]
          },
          "execution_count": 67,
          "metadata": {},
          "output_type": "execute_result"
        }
      ],
      "source": [
        "tracks['popularity'].describe()\n"
      ]
    },
    {
      "cell_type": "code",
      "execution_count": 68,
      "metadata": {
        "id": "K3woar-qUvej"
      },
      "outputs": [],
      "source": [
        "tracks['popularity_red'] = tracks['popularity'].apply(lambda x: int(x/5))\n",
        "tracks['consolidates_genre_lists'] = tracks['genre_list'].apply(lambda d: d if isinstance(d, list) else [])\n"
      ]
    },
    {
      "cell_type": "code",
      "execution_count": 69,
      "metadata": {
        "colab": {
          "base_uri": "https://localhost:8080/",
          "height": 377
        },
        "id": "YRMnj6F2Uvet",
        "outputId": "11ed13f9-7d36-4d1a-ed21-cb8874e0f24a"
      },
      "outputs": [
        {
          "data": {
            "text/html": [
              "<div>\n",
              "<style scoped>\n",
              "    .dataframe tbody tr th:only-of-type {\n",
              "        vertical-align: middle;\n",
              "    }\n",
              "\n",
              "    .dataframe tbody tr th {\n",
              "        vertical-align: top;\n",
              "    }\n",
              "\n",
              "    .dataframe thead th {\n",
              "        text-align: right;\n",
              "    }\n",
              "</style>\n",
              "<table border=\"1\" class=\"dataframe\">\n",
              "  <thead>\n",
              "    <tr style=\"text-align: right;\">\n",
              "      <th></th>\n",
              "      <th>id</th>\n",
              "      <th>name</th>\n",
              "      <th>popularity</th>\n",
              "      <th>duration_ms</th>\n",
              "      <th>explicit</th>\n",
              "      <th>artists</th>\n",
              "      <th>id_artists</th>\n",
              "      <th>release_date</th>\n",
              "      <th>danceability</th>\n",
              "      <th>energy</th>\n",
              "      <th>...</th>\n",
              "      <th>time_signature</th>\n",
              "      <th>artists_upd_v1</th>\n",
              "      <th>artists_upd_v2</th>\n",
              "      <th>artists_upd</th>\n",
              "      <th>artists_song</th>\n",
              "      <th>id_x</th>\n",
              "      <th>genre_list</th>\n",
              "      <th>year</th>\n",
              "      <th>popularity_red</th>\n",
              "      <th>consolidates_genre_lists</th>\n",
              "    </tr>\n",
              "  </thead>\n",
              "  <tbody>\n",
              "    <tr>\n",
              "      <th>0</th>\n",
              "      <td>3u1C6nWVRoP5F0w8gGrDL3</td>\n",
              "      <td>사랑의 미로</td>\n",
              "      <td>25</td>\n",
              "      <td>222380</td>\n",
              "      <td>0</td>\n",
              "      <td>['최진희']</td>\n",
              "      <td>['1NSrAf8XJYJVgAXKoxaMet']</td>\n",
              "      <td>1987-06-01</td>\n",
              "      <td>0.367</td>\n",
              "      <td>0.194</td>\n",
              "      <td>...</td>\n",
              "      <td>4</td>\n",
              "      <td>[최진희]</td>\n",
              "      <td>[]</td>\n",
              "      <td>최진희</td>\n",
              "      <td>최진희사랑의 미로</td>\n",
              "      <td>3u1C6nWVRoP5F0w8gGrDL3</td>\n",
              "      <td>[trot]</td>\n",
              "      <td>1987</td>\n",
              "      <td>5</td>\n",
              "      <td>[trot]</td>\n",
              "    </tr>\n",
              "    <tr>\n",
              "      <th>2</th>\n",
              "      <td>1jvoY322nxyKXq8OBhgmSY</td>\n",
              "      <td>어떡하죠</td>\n",
              "      <td>44</td>\n",
              "      <td>244360</td>\n",
              "      <td>0</td>\n",
              "      <td>['지선']</td>\n",
              "      <td>['2Mo9NQaNCFCWSR5CnlfmbN']</td>\n",
              "      <td>2011-10-13</td>\n",
              "      <td>0.606</td>\n",
              "      <td>0.341</td>\n",
              "      <td>...</td>\n",
              "      <td>4</td>\n",
              "      <td>[지선]</td>\n",
              "      <td>[]</td>\n",
              "      <td>지선</td>\n",
              "      <td>지선어떡하죠</td>\n",
              "      <td>1jvoY322nxyKXq8OBhgmSY</td>\n",
              "      <td>[]</td>\n",
              "      <td>2011</td>\n",
              "      <td>8</td>\n",
              "      <td>[]</td>\n",
              "    </tr>\n",
              "    <tr>\n",
              "      <th>4</th>\n",
              "      <td>7rxpWwcXNgDUXl0wN0gUvp</td>\n",
              "      <td>천국의 기억 장정우 Version</td>\n",
              "      <td>31</td>\n",
              "      <td>280372</td>\n",
              "      <td>0</td>\n",
              "      <td>['장정우']</td>\n",
              "      <td>['5L7zKs2ftwENWOMI7LFaN1']</td>\n",
              "      <td>2003-12-24</td>\n",
              "      <td>0.494</td>\n",
              "      <td>0.656</td>\n",
              "      <td>...</td>\n",
              "      <td>4</td>\n",
              "      <td>[장정우]</td>\n",
              "      <td>[]</td>\n",
              "      <td>장정우</td>\n",
              "      <td>장정우천국의 기억 장정우 Version</td>\n",
              "      <td>7rxpWwcXNgDUXl0wN0gUvp</td>\n",
              "      <td>[]</td>\n",
              "      <td>2003</td>\n",
              "      <td>6</td>\n",
              "      <td>[]</td>\n",
              "    </tr>\n",
              "    <tr>\n",
              "      <th>5</th>\n",
              "      <td>0cEvzbXjxkOxgBUmBUcHZW</td>\n",
              "      <td>그것만은..</td>\n",
              "      <td>32</td>\n",
              "      <td>294452</td>\n",
              "      <td>0</td>\n",
              "      <td>['장정우']</td>\n",
              "      <td>['5L7zKs2ftwENWOMI7LFaN1']</td>\n",
              "      <td>2003-12-24</td>\n",
              "      <td>0.311</td>\n",
              "      <td>0.487</td>\n",
              "      <td>...</td>\n",
              "      <td>4</td>\n",
              "      <td>[장정우]</td>\n",
              "      <td>[]</td>\n",
              "      <td>장정우</td>\n",
              "      <td>장정우그것만은..</td>\n",
              "      <td>0cEvzbXjxkOxgBUmBUcHZW</td>\n",
              "      <td>[]</td>\n",
              "      <td>2003</td>\n",
              "      <td>6</td>\n",
              "      <td>[]</td>\n",
              "    </tr>\n",
              "    <tr>\n",
              "      <th>8</th>\n",
              "      <td>6uRXQW8BqB3N9WKfe9gfdw</td>\n",
              "      <td>Title 허밍</td>\n",
              "      <td>37</td>\n",
              "      <td>102307</td>\n",
              "      <td>0</td>\n",
              "      <td>['이경섭']</td>\n",
              "      <td>['191huMISbbIeUELiiEGZ7L']</td>\n",
              "      <td>2007-11-09</td>\n",
              "      <td>0.825</td>\n",
              "      <td>0.604</td>\n",
              "      <td>...</td>\n",
              "      <td>4</td>\n",
              "      <td>[이경섭]</td>\n",
              "      <td>[]</td>\n",
              "      <td>이경섭</td>\n",
              "      <td>이경섭Title 허밍</td>\n",
              "      <td>6uRXQW8BqB3N9WKfe9gfdw</td>\n",
              "      <td>[]</td>\n",
              "      <td>2007</td>\n",
              "      <td>7</td>\n",
              "      <td>[]</td>\n",
              "    </tr>\n",
              "  </tbody>\n",
              "</table>\n",
              "<p>5 rows × 29 columns</p>\n",
              "</div>"
            ],
            "text/plain": [
              "                       id                name  popularity  duration_ms  \\\n",
              "0  3u1C6nWVRoP5F0w8gGrDL3              사랑의 미로          25       222380   \n",
              "2  1jvoY322nxyKXq8OBhgmSY                어떡하죠          44       244360   \n",
              "4  7rxpWwcXNgDUXl0wN0gUvp  천국의 기억 장정우 Version          31       280372   \n",
              "5  0cEvzbXjxkOxgBUmBUcHZW              그것만은..          32       294452   \n",
              "8  6uRXQW8BqB3N9WKfe9gfdw            Title 허밍          37       102307   \n",
              "\n",
              "   explicit  artists                  id_artists release_date  danceability  \\\n",
              "0         0  ['최진희']  ['1NSrAf8XJYJVgAXKoxaMet']   1987-06-01         0.367   \n",
              "2         0   ['지선']  ['2Mo9NQaNCFCWSR5CnlfmbN']   2011-10-13         0.606   \n",
              "4         0  ['장정우']  ['5L7zKs2ftwENWOMI7LFaN1']   2003-12-24         0.494   \n",
              "5         0  ['장정우']  ['5L7zKs2ftwENWOMI7LFaN1']   2003-12-24         0.311   \n",
              "8         0  ['이경섭']  ['191huMISbbIeUELiiEGZ7L']   2007-11-09         0.825   \n",
              "\n",
              "   energy  ...  time_signature  artists_upd_v1  artists_upd_v2  artists_upd  \\\n",
              "0   0.194  ...               4           [최진희]              []          최진희   \n",
              "2   0.341  ...               4            [지선]              []           지선   \n",
              "4   0.656  ...               4           [장정우]              []          장정우   \n",
              "5   0.487  ...               4           [장정우]              []          장정우   \n",
              "8   0.604  ...               4           [이경섭]              []          이경섭   \n",
              "\n",
              "            artists_song                    id_x  genre_list  year  \\\n",
              "0              최진희사랑의 미로  3u1C6nWVRoP5F0w8gGrDL3      [trot]  1987   \n",
              "2                 지선어떡하죠  1jvoY322nxyKXq8OBhgmSY          []  2011   \n",
              "4  장정우천국의 기억 장정우 Version  7rxpWwcXNgDUXl0wN0gUvp          []  2003   \n",
              "5              장정우그것만은..  0cEvzbXjxkOxgBUmBUcHZW          []  2003   \n",
              "8            이경섭Title 허밍  6uRXQW8BqB3N9WKfe9gfdw          []  2007   \n",
              "\n",
              "   popularity_red  consolidates_genre_lists  \n",
              "0               5                    [trot]  \n",
              "2               8                        []  \n",
              "4               6                        []  \n",
              "5               6                        []  \n",
              "8               7                        []  \n",
              "\n",
              "[5 rows x 29 columns]"
            ]
          },
          "execution_count": 69,
          "metadata": {},
          "output_type": "execute_result"
        }
      ],
      "source": [
        "tracks.head()"
      ]
    },
    {
      "cell_type": "code",
      "execution_count": 70,
      "metadata": {
        "id": "sbxhNPtQFt5V"
      },
      "outputs": [],
      "source": [
        "from sklearn.feature_extraction.text import TfidfVectorizer\n",
        "from sklearn.preprocessing import MinMaxScaler"
      ]
    },
    {
      "cell_type": "code",
      "execution_count": 71,
      "metadata": {
        "id": "buEsGzNSCl_K"
      },
      "outputs": [],
      "source": [
        "#ohe prep\n",
        "def ohe_prep(df, col, new_col_name):\n",
        "\n",
        "  new_df = pd.get_dummies(df[col])\n",
        "  names = new_df.columns\n",
        "  new_df.columns = [new_col_name + \"|\" + str(i) for i in names]\n",
        "  new_df.reset_index(drop=True, inplace = True)\n",
        "  return new_df"
      ]
    },
    {
      "cell_type": "markdown",
      "metadata": {
        "id": "8hJmluA2-jqw"
      },
      "source": [
        "TF-IDF Section"
      ]
    },
    {
      "cell_type": "code",
      "execution_count": 72,
      "metadata": {
        "id": "dwMZb60J-m5L"
      },
      "outputs": [],
      "source": [
        "def tfIDF(df, float_cols):\n",
        "    #tfIDF section\n",
        "    vector= TfidfVectorizer()\n",
        "    matrix = vector.fit_transform(df['consolidates_genre_lists'].apply(lambda x: \" \".join(x)))\n",
        "    genres = pd.DataFrame(matrix.toarray())\n",
        "    genres.columns = ['genre' + \"|\" + i for i in vector.get_feature_names_out()]\n",
        "    genres.reset_index(drop=True, inplace=True)\n",
        "\n",
        "    year = ohe_prep(df, 'year', 'year') * 0.5\n",
        "    popularity = ohe_prep(df, 'popularity_red', 'pop') * 0.15\n",
        "\n",
        "    floats = df[float_cols].reset_index(drop = True)\n",
        "    scaler=MinMaxScaler()\n",
        "    floats_scaled = pd.DataFrame(scaler.fit_transform(floats), columns=floats.columns) * 0.1\n",
        "\n",
        "    concatDf = pd.concat([genres, popularity, year], axis =1)\n",
        "\n",
        "    concatDf['id'] = df['id'].values\n",
        "\n",
        "    return concatDf\n"
      ]
    },
    {
      "cell_type": "code",
      "execution_count": 73,
      "metadata": {
        "colab": {
          "base_uri": "https://localhost:8080/",
          "height": 179
        },
        "id": "Z60lHqfeCJqE",
        "outputId": "27dcede3-35e1-4f0d-c9ce-8f0655190b3a"
      },
      "outputs": [],
      "source": [
        "complete_set = tfIDF(tracks, float_cols=float_cols)"
      ]
    },
    {
      "cell_type": "code",
      "execution_count": 74,
      "metadata": {
        "id": "72hEpcAyGVG4"
      },
      "outputs": [
        {
          "data": {
            "text/html": [
              "<div>\n",
              "<style scoped>\n",
              "    .dataframe tbody tr th:only-of-type {\n",
              "        vertical-align: middle;\n",
              "    }\n",
              "\n",
              "    .dataframe tbody tr th {\n",
              "        vertical-align: top;\n",
              "    }\n",
              "\n",
              "    .dataframe thead th {\n",
              "        text-align: right;\n",
              "    }\n",
              "</style>\n",
              "<table border=\"1\" class=\"dataframe\">\n",
              "  <thead>\n",
              "    <tr style=\"text-align: right;\">\n",
              "      <th></th>\n",
              "      <th>genre|21st_century_classical</th>\n",
              "      <th>genre|432hz</th>\n",
              "      <th>genre|48g</th>\n",
              "      <th>genre|_brasileira</th>\n",
              "      <th>genre|_hip_hop</th>\n",
              "      <th>genre|_house</th>\n",
              "      <th>genre|a3</th>\n",
              "      <th>genre|a_cappella</th>\n",
              "      <th>genre|abstract</th>\n",
              "      <th>genre|abstract_beats</th>\n",
              "      <th>...</th>\n",
              "      <th>year|2013</th>\n",
              "      <th>year|2014</th>\n",
              "      <th>year|2015</th>\n",
              "      <th>year|2016</th>\n",
              "      <th>year|2017</th>\n",
              "      <th>year|2018</th>\n",
              "      <th>year|2019</th>\n",
              "      <th>year|2020</th>\n",
              "      <th>year|2021</th>\n",
              "      <th>id</th>\n",
              "    </tr>\n",
              "  </thead>\n",
              "  <tbody>\n",
              "    <tr>\n",
              "      <th>0</th>\n",
              "      <td>0.0</td>\n",
              "      <td>0.0</td>\n",
              "      <td>0.0</td>\n",
              "      <td>0.0</td>\n",
              "      <td>0.0</td>\n",
              "      <td>0.0</td>\n",
              "      <td>0.0</td>\n",
              "      <td>0.0</td>\n",
              "      <td>0.0</td>\n",
              "      <td>0.0</td>\n",
              "      <td>...</td>\n",
              "      <td>0.0</td>\n",
              "      <td>0.0</td>\n",
              "      <td>0.0</td>\n",
              "      <td>0.0</td>\n",
              "      <td>0.0</td>\n",
              "      <td>0.0</td>\n",
              "      <td>0.0</td>\n",
              "      <td>0.0</td>\n",
              "      <td>0.0</td>\n",
              "      <td>3u1C6nWVRoP5F0w8gGrDL3</td>\n",
              "    </tr>\n",
              "    <tr>\n",
              "      <th>1</th>\n",
              "      <td>0.0</td>\n",
              "      <td>0.0</td>\n",
              "      <td>0.0</td>\n",
              "      <td>0.0</td>\n",
              "      <td>0.0</td>\n",
              "      <td>0.0</td>\n",
              "      <td>0.0</td>\n",
              "      <td>0.0</td>\n",
              "      <td>0.0</td>\n",
              "      <td>0.0</td>\n",
              "      <td>...</td>\n",
              "      <td>0.0</td>\n",
              "      <td>0.0</td>\n",
              "      <td>0.0</td>\n",
              "      <td>0.0</td>\n",
              "      <td>0.0</td>\n",
              "      <td>0.0</td>\n",
              "      <td>0.0</td>\n",
              "      <td>0.0</td>\n",
              "      <td>0.0</td>\n",
              "      <td>1jvoY322nxyKXq8OBhgmSY</td>\n",
              "    </tr>\n",
              "    <tr>\n",
              "      <th>2</th>\n",
              "      <td>0.0</td>\n",
              "      <td>0.0</td>\n",
              "      <td>0.0</td>\n",
              "      <td>0.0</td>\n",
              "      <td>0.0</td>\n",
              "      <td>0.0</td>\n",
              "      <td>0.0</td>\n",
              "      <td>0.0</td>\n",
              "      <td>0.0</td>\n",
              "      <td>0.0</td>\n",
              "      <td>...</td>\n",
              "      <td>0.0</td>\n",
              "      <td>0.0</td>\n",
              "      <td>0.0</td>\n",
              "      <td>0.0</td>\n",
              "      <td>0.0</td>\n",
              "      <td>0.0</td>\n",
              "      <td>0.0</td>\n",
              "      <td>0.0</td>\n",
              "      <td>0.0</td>\n",
              "      <td>7rxpWwcXNgDUXl0wN0gUvp</td>\n",
              "    </tr>\n",
              "    <tr>\n",
              "      <th>3</th>\n",
              "      <td>0.0</td>\n",
              "      <td>0.0</td>\n",
              "      <td>0.0</td>\n",
              "      <td>0.0</td>\n",
              "      <td>0.0</td>\n",
              "      <td>0.0</td>\n",
              "      <td>0.0</td>\n",
              "      <td>0.0</td>\n",
              "      <td>0.0</td>\n",
              "      <td>0.0</td>\n",
              "      <td>...</td>\n",
              "      <td>0.0</td>\n",
              "      <td>0.0</td>\n",
              "      <td>0.0</td>\n",
              "      <td>0.0</td>\n",
              "      <td>0.0</td>\n",
              "      <td>0.0</td>\n",
              "      <td>0.0</td>\n",
              "      <td>0.0</td>\n",
              "      <td>0.0</td>\n",
              "      <td>0cEvzbXjxkOxgBUmBUcHZW</td>\n",
              "    </tr>\n",
              "    <tr>\n",
              "      <th>4</th>\n",
              "      <td>0.0</td>\n",
              "      <td>0.0</td>\n",
              "      <td>0.0</td>\n",
              "      <td>0.0</td>\n",
              "      <td>0.0</td>\n",
              "      <td>0.0</td>\n",
              "      <td>0.0</td>\n",
              "      <td>0.0</td>\n",
              "      <td>0.0</td>\n",
              "      <td>0.0</td>\n",
              "      <td>...</td>\n",
              "      <td>0.0</td>\n",
              "      <td>0.0</td>\n",
              "      <td>0.0</td>\n",
              "      <td>0.0</td>\n",
              "      <td>0.0</td>\n",
              "      <td>0.0</td>\n",
              "      <td>0.0</td>\n",
              "      <td>0.0</td>\n",
              "      <td>0.0</td>\n",
              "      <td>6uRXQW8BqB3N9WKfe9gfdw</td>\n",
              "    </tr>\n",
              "  </tbody>\n",
              "</table>\n",
              "<p>5 rows × 4891 columns</p>\n",
              "</div>"
            ],
            "text/plain": [
              "   genre|21st_century_classical  genre|432hz  genre|48g  genre|_brasileira  \\\n",
              "0                           0.0          0.0        0.0                0.0   \n",
              "1                           0.0          0.0        0.0                0.0   \n",
              "2                           0.0          0.0        0.0                0.0   \n",
              "3                           0.0          0.0        0.0                0.0   \n",
              "4                           0.0          0.0        0.0                0.0   \n",
              "\n",
              "   genre|_hip_hop  genre|_house  genre|a3  genre|a_cappella  genre|abstract  \\\n",
              "0             0.0           0.0       0.0               0.0             0.0   \n",
              "1             0.0           0.0       0.0               0.0             0.0   \n",
              "2             0.0           0.0       0.0               0.0             0.0   \n",
              "3             0.0           0.0       0.0               0.0             0.0   \n",
              "4             0.0           0.0       0.0               0.0             0.0   \n",
              "\n",
              "   genre|abstract_beats  ...  year|2013  year|2014  year|2015  year|2016  \\\n",
              "0                   0.0  ...        0.0        0.0        0.0        0.0   \n",
              "1                   0.0  ...        0.0        0.0        0.0        0.0   \n",
              "2                   0.0  ...        0.0        0.0        0.0        0.0   \n",
              "3                   0.0  ...        0.0        0.0        0.0        0.0   \n",
              "4                   0.0  ...        0.0        0.0        0.0        0.0   \n",
              "\n",
              "   year|2017  year|2018  year|2019  year|2020  year|2021  \\\n",
              "0        0.0        0.0        0.0        0.0        0.0   \n",
              "1        0.0        0.0        0.0        0.0        0.0   \n",
              "2        0.0        0.0        0.0        0.0        0.0   \n",
              "3        0.0        0.0        0.0        0.0        0.0   \n",
              "4        0.0        0.0        0.0        0.0        0.0   \n",
              "\n",
              "                       id  \n",
              "0  3u1C6nWVRoP5F0w8gGrDL3  \n",
              "1  1jvoY322nxyKXq8OBhgmSY  \n",
              "2  7rxpWwcXNgDUXl0wN0gUvp  \n",
              "3  0cEvzbXjxkOxgBUmBUcHZW  \n",
              "4  6uRXQW8BqB3N9WKfe9gfdw  \n",
              "\n",
              "[5 rows x 4891 columns]"
            ]
          },
          "execution_count": 74,
          "metadata": {},
          "output_type": "execute_result"
        }
      ],
      "source": [
        "complete_set.head()"
      ]
    },
    {
      "cell_type": "markdown",
      "metadata": {
        "id": "bc37huoBViHZ"
      },
      "source": [
        "Spotify Section"
      ]
    },
    {
      "cell_type": "code",
      "execution_count": 75,
      "metadata": {
        "colab": {
          "base_uri": "https://localhost:8080/"
        },
        "id": "Vbg7zfFKWju6",
        "outputId": "5c25ea7b-b95d-4ecc-ee7d-cfeb6e344976"
      },
      "outputs": [
        {
          "name": "stdout",
          "output_type": "stream",
          "text": [
            "Collecting spotipy\n",
            "  Downloading spotipy-2.23.0-py3-none-any.whl (29 kB)\n",
            "Collecting redis>=3.5.3 (from spotipy)\n",
            "  Downloading redis-5.0.1-py3-none-any.whl.metadata (8.9 kB)\n",
            "Collecting requests>=2.25.0 (from spotipy)\n",
            "  Downloading requests-2.31.0-py3-none-any.whl.metadata (4.6 kB)\n",
            "Requirement already satisfied: six>=1.15.0 in /Users/elisegalletta/Desktop/Fall2023/ai/finalproject/.venv/lib/python3.10/site-packages (from spotipy) (1.16.0)\n",
            "Collecting urllib3>=1.26.0 (from spotipy)\n",
            "  Downloading urllib3-2.1.0-py3-none-any.whl.metadata (6.4 kB)\n",
            "Collecting async-timeout>=4.0.2 (from redis>=3.5.3->spotipy)\n",
            "  Downloading async_timeout-4.0.3-py3-none-any.whl.metadata (4.2 kB)\n",
            "Collecting charset-normalizer<4,>=2 (from requests>=2.25.0->spotipy)\n",
            "  Downloading charset_normalizer-3.3.2-cp310-cp310-macosx_10_9_x86_64.whl.metadata (33 kB)\n",
            "Collecting idna<4,>=2.5 (from requests>=2.25.0->spotipy)\n",
            "  Downloading idna-3.6-py3-none-any.whl.metadata (9.9 kB)\n",
            "Collecting certifi>=2017.4.17 (from requests>=2.25.0->spotipy)\n",
            "  Downloading certifi-2023.11.17-py3-none-any.whl.metadata (2.2 kB)\n",
            "Downloading redis-5.0.1-py3-none-any.whl (250 kB)\n",
            "\u001b[2K   \u001b[90m━━━━━━━━━━━━━━━━━━━━━━━━━━━━━━━━━━━━━━━━\u001b[0m \u001b[32m250.3/250.3 kB\u001b[0m \u001b[31m4.2 MB/s\u001b[0m eta \u001b[36m0:00:00\u001b[0m00:01\u001b[0m\n",
            "\u001b[?25hDownloading requests-2.31.0-py3-none-any.whl (62 kB)\n",
            "\u001b[2K   \u001b[90m━━━━━━━━━━━━━━━━━━━━━━━━━━━━━━━━━━━━━━━━\u001b[0m \u001b[32m62.6/62.6 kB\u001b[0m \u001b[31m2.0 MB/s\u001b[0m eta \u001b[36m0:00:00\u001b[0m\n",
            "\u001b[?25hDownloading urllib3-2.1.0-py3-none-any.whl (104 kB)\n",
            "\u001b[2K   \u001b[90m━━━━━━━━━━━━━━━━━━━━━━━━━━━━━━━━━━━━━━━━\u001b[0m \u001b[32m104.6/104.6 kB\u001b[0m \u001b[31m3.4 MB/s\u001b[0m eta \u001b[36m0:00:00\u001b[0m\n",
            "\u001b[?25hDownloading async_timeout-4.0.3-py3-none-any.whl (5.7 kB)\n",
            "Downloading certifi-2023.11.17-py3-none-any.whl (162 kB)\n",
            "\u001b[2K   \u001b[90m━━━━━━━━━━━━━━━━━━━━━━━━━━━━━━━━━━━━━━━━\u001b[0m \u001b[32m162.5/162.5 kB\u001b[0m \u001b[31m4.5 MB/s\u001b[0m eta \u001b[36m0:00:00\u001b[0m\n",
            "\u001b[?25hDownloading charset_normalizer-3.3.2-cp310-cp310-macosx_10_9_x86_64.whl (122 kB)\n",
            "\u001b[2K   \u001b[90m━━━━━━━━━━━━━━━━━━━━━━━━━━━━━━━━━━━━━━━━\u001b[0m \u001b[32m122.5/122.5 kB\u001b[0m \u001b[31m2.4 MB/s\u001b[0m eta \u001b[36m0:00:00\u001b[0ma \u001b[36m0:00:01\u001b[0m\n",
            "\u001b[?25hDownloading idna-3.6-py3-none-any.whl (61 kB)\n",
            "\u001b[2K   \u001b[90m━━━━━━━━━━━━━━━━━━━━━━━━━━━━━━━━━━━━━━━━\u001b[0m \u001b[32m61.6/61.6 kB\u001b[0m \u001b[31m1.6 MB/s\u001b[0m eta \u001b[36m0:00:00\u001b[0m\n",
            "\u001b[?25hInstalling collected packages: urllib3, idna, charset-normalizer, certifi, async-timeout, requests, redis, spotipy\n",
            "Successfully installed async-timeout-4.0.3 certifi-2023.11.17 charset-normalizer-3.3.2 idna-3.6 redis-5.0.1 requests-2.31.0 spotipy-2.23.0 urllib3-2.1.0\n"
          ]
        }
      ],
      "source": [
        "!pip install spotipy"
      ]
    },
    {
      "cell_type": "code",
      "execution_count": 76,
      "metadata": {
        "id": "ktI2rt46VkT0"
      },
      "outputs": [
        {
          "ename": "SyntaxError",
          "evalue": "invalid syntax (3672304809.py, line 1)",
          "output_type": "error",
          "traceback": [
            "\u001b[0;36m  Cell \u001b[0;32mIn[76], line 1\u001b[0;36m\u001b[0m\n\u001b[0;31m    SPOTIPY_CLIENT_ID = #need to generate these in order to use the API\u001b[0m\n\u001b[0m                        ^\u001b[0m\n\u001b[0;31mSyntaxError\u001b[0m\u001b[0;31m:\u001b[0m invalid syntax\n"
          ]
        }
      ],
      "source": [
        "SPOTIPY_CLIENT_ID = #need to generate these in order to use the API\n",
        "SPOTIPY_CLIENT_SECRET = #need to generate these in order to use the API\n",
        "\n",
        "#sample code to connect to the API\n",
        "import spotipy\n",
        "from spotipy.oauth2 import SpotifyClientCredentials\n",
        "\n",
        "birdy_uri = 'spotify:artist:2WX2uTcsvV5OnS0inACecP'\n",
        "spotify = spotipy.Spotify(client_credentials_manager=SpotifyClientCredentials())\n",
        "\n",
        "results = spotify.artist_albums(birdy_uri, album_type='album')\n",
        "albums = results['items']\n",
        "while results['next']:\n",
        "    results = spotify.next(results)\n",
        "    albums.extend(results['items'])\n",
        "\n",
        "for album in albums:\n",
        "    print(album['name'])"
      ]
    },
    {
      "cell_type": "code",
      "execution_count": null,
      "metadata": {
        "id": "ay6pgjSeYNIe"
      },
      "outputs": [],
      "source": [
        "import spotipy\n",
        "from spotipy.oauth2 import SpotifyClientCredentials\n",
        "from spotipy.oauth2 import SpotifyOAuth\n",
        "import spotipy.util as util\n",
        "\n",
        "SPOTIPY_CLIENT_ID = #need to generate these in order to use the API\n",
        "SPOTIPY_CLIENT_SECRET = #need to generate these in order to use the API\n"
      ]
    },
    {
      "cell_type": "code",
      "execution_count": null,
      "metadata": {
        "id": "jArhKTsUYV6P"
      },
      "outputs": [],
      "source": [
        "scope = 'user-library-read'\n",
        "\n",
        "if len(sys.argv) > 1:\n",
        "    username = sys.argv[1]\n",
        "else:\n",
        "    print(\"Usage: %s username\" % (sys.argv[0],))\n",
        "    sys.exit()\n",
        "\n",
        "spotify = spotipy.Spotify(client_credentials_manager=SpotifyClientCredentials())\n"
      ]
    },
    {
      "cell_type": "code",
      "execution_count": null,
      "metadata": {
        "id": "0qMZvyVJZXfH"
      },
      "outputs": [],
      "source": [
        "token = util.prompt_for_user_token(scope, client_id= SPOTIPY_CLIENT_ID, client_secret=SPOTIPY_CLIENT_SECRET, redirect_uri='http') #incomplete"
      ]
    },
    {
      "cell_type": "code",
      "execution_count": null,
      "metadata": {
        "id": "8KVnYt9AYemc"
      },
      "outputs": [],
      "source": [
        "spotify = spotipy.Spotify(auth=token)"
      ]
    },
    {
      "cell_type": "code",
      "execution_count": null,
      "metadata": {
        "id": "DqiIOl_wZil_"
      },
      "outputs": [],
      "source": [
        "#gather playlist names and images.\n",
        "#images aren't going to be used until I start building a UI\n",
        "id_name = {}\n",
        "list_photo = {}\n",
        "for i in spotify.current_user_playlists()['items']:\n",
        "\n",
        "    id_name[i['name']] = i['uri'].split(':')[2]\n",
        "    list_photo[i['uri'].split(':')[2]] = i['images'][0]['url']"
      ]
    },
    {
      "cell_type": "code",
      "execution_count": null,
      "metadata": {
        "id": "bOFJNtdgZmIW"
      },
      "outputs": [],
      "source": [
        "id_name"
      ]
    },
    {
      "cell_type": "code",
      "execution_count": null,
      "metadata": {
        "id": "A1w1Hq8aZn-7"
      },
      "outputs": [],
      "source": [
        "def create_necessary_outputs(playlist_name,id_dic, df):\n",
        "    \"\"\"\n",
        "    Pull songs from a specific playlist.\n",
        "\n",
        "    Parameters:\n",
        "        playlist_name (str): name of the playlist you'd like to pull from the spotify API\n",
        "        id_dic (dic): dictionary that maps playlist_name to playlist_id\n",
        "        df (pandas dataframe): spotify datafram\n",
        "\n",
        "    Returns:\n",
        "        playlist: all songs in the playlist THAT ARE AVAILABLE IN THE KAGGLE DATASET\n",
        "    \"\"\"\n",
        "\n",
        "    #generate playlist dataframe\n",
        "    playlist = pd.DataFrame()\n",
        "    playlist_name = playlist_name\n",
        "\n",
        "    for ix, i in enumerate(sp.playlist(id_dic[playlist_name])['tracks']['items']):\n",
        "        #print(i['track']['artists'][0]['name'])\n",
        "        playlist.loc[ix, 'artist'] = i['track']['artists'][0]['name']\n",
        "        playlist.loc[ix, 'name'] = i['track']['name']\n",
        "        playlist.loc[ix, 'id'] = i['track']['id'] # ['uri'].split(':')[2]\n",
        "        playlist.loc[ix, 'url'] = i['track']['album']['images'][1]['url']\n",
        "        playlist.loc[ix, 'date_added'] = i['added_at']\n",
        "\n",
        "    playlist['date_added'] = pd.to_datetime(playlist['date_added'])\n",
        "\n",
        "    playlist = playlist[playlist['id'].isin(df['id'].values)].sort_values('date_added',ascending = False)\n",
        "\n",
        "    return playlist"
      ]
    },
    {
      "cell_type": "code",
      "execution_count": null,
      "metadata": {
        "id": "demJRT6HZqWZ"
      },
      "outputs": [],
      "source": []
    }
  ],
  "metadata": {
    "colab": {
      "provenance": []
    },
    "kernelspec": {
      "display_name": "Python 3 (ipykernel)",
      "language": "python",
      "name": "python3"
    },
    "language_info": {
      "codemirror_mode": {
        "name": "ipython",
        "version": 3
      },
      "file_extension": ".py",
      "mimetype": "text/x-python",
      "name": "python",
      "nbconvert_exporter": "python",
      "pygments_lexer": "ipython3",
      "version": "3.10.2"
    }
  },
  "nbformat": 4,
  "nbformat_minor": 0
}
